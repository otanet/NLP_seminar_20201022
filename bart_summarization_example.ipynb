{
  "nbformat": 4,
  "nbformat_minor": 0,
  "metadata": {
    "colab": {
      "name": "bart_summarization_example.ipynb",
      "provenance": [],
      "collapsed_sections": [],
      "toc_visible": true,
      "include_colab_link": true
    },
    "kernelspec": {
      "name": "python3",
      "display_name": "Python 3"
    }
  },
  "cells": [
    {
      "cell_type": "markdown",
      "metadata": {
        "id": "view-in-github",
        "colab_type": "text"
      },
      "source": [
        "<a href=\"https://colab.research.google.com/github/otanet/NLP_seminar_20201022/blob/main/bart_summarization_example.ipynb\" target=\"_parent\"><img src=\"https://colab.research.google.com/assets/colab-badge.svg\" alt=\"Open In Colab\"/></a>"
      ]
    },
    {
      "cell_type": "markdown",
      "metadata": {
        "id": "aI216lviXweY"
      },
      "source": [
        "# BARTを用いた要約の例\n",
        "*   本ノートブックでは，要約データにfinetuneされたBARTモデルで要約を生成する例を示します．\n",
        "*   huggingfaceの[transformers](https://github.com/huggingface/transformers)を使用します．\n",
        "*   BARTをfinetuneする例は含まれません\n",
        "*   BARTをfinetuneする例についてはこちら[こちら](https://github.com/huggingface/transformers/tree/master/examples/seq2seq)を参考にしてください\n",
        "\n"
      ]
    },
    {
      "cell_type": "markdown",
      "metadata": {
        "id": "L1tiDr0jUpdj"
      },
      "source": [
        "## 環境のセットアップ"
      ]
    },
    {
      "cell_type": "code",
      "metadata": {
        "id": "Z8EBbXtT8oV6",
        "outputId": "8cd7f175-d162-4050-f5ca-6ca9816a7a99",
        "colab": {
          "base_uri": "https://localhost:8080/",
          "height": 615
        }
      },
      "source": [
        "!pip install transformers==3.3.1"
      ],
      "execution_count": null,
      "outputs": [
        {
          "output_type": "stream",
          "text": [
            "Collecting transformers==3.3.1\n",
            "\u001b[?25l  Downloading https://files.pythonhosted.org/packages/19/22/aff234f4a841f8999e68a7a94bdd4b60b4cebcfeca5d67d61cd08c9179de/transformers-3.3.1-py3-none-any.whl (1.1MB)\n",
            "\u001b[K     |████████████████████████████████| 1.1MB 3.5MB/s \n",
            "\u001b[?25hRequirement already satisfied: packaging in /usr/local/lib/python3.6/dist-packages (from transformers==3.3.1) (20.4)\n",
            "Collecting sacremoses\n",
            "\u001b[?25l  Downloading https://files.pythonhosted.org/packages/7d/34/09d19aff26edcc8eb2a01bed8e98f13a1537005d31e95233fd48216eed10/sacremoses-0.0.43.tar.gz (883kB)\n",
            "\u001b[K     |████████████████████████████████| 890kB 12.8MB/s \n",
            "\u001b[?25hRequirement already satisfied: requests in /usr/local/lib/python3.6/dist-packages (from transformers==3.3.1) (2.23.0)\n",
            "Requirement already satisfied: tqdm>=4.27 in /usr/local/lib/python3.6/dist-packages (from transformers==3.3.1) (4.41.1)\n",
            "Requirement already satisfied: dataclasses; python_version < \"3.7\" in /usr/local/lib/python3.6/dist-packages (from transformers==3.3.1) (0.7)\n",
            "Requirement already satisfied: numpy in /usr/local/lib/python3.6/dist-packages (from transformers==3.3.1) (1.18.5)\n",
            "Collecting sentencepiece!=0.1.92\n",
            "\u001b[?25l  Downloading https://files.pythonhosted.org/packages/d4/a4/d0a884c4300004a78cca907a6ff9a5e9fe4f090f5d95ab341c53d28cbc58/sentencepiece-0.1.91-cp36-cp36m-manylinux1_x86_64.whl (1.1MB)\n",
            "\u001b[K     |████████████████████████████████| 1.1MB 27.8MB/s \n",
            "\u001b[?25hRequirement already satisfied: regex!=2019.12.17 in /usr/local/lib/python3.6/dist-packages (from transformers==3.3.1) (2019.12.20)\n",
            "Requirement already satisfied: filelock in /usr/local/lib/python3.6/dist-packages (from transformers==3.3.1) (3.0.12)\n",
            "Collecting tokenizers==0.8.1.rc2\n",
            "\u001b[?25l  Downloading https://files.pythonhosted.org/packages/80/83/8b9fccb9e48eeb575ee19179e2bdde0ee9a1904f97de5f02d19016b8804f/tokenizers-0.8.1rc2-cp36-cp36m-manylinux1_x86_64.whl (3.0MB)\n",
            "\u001b[K     |████████████████████████████████| 3.0MB 33.7MB/s \n",
            "\u001b[?25hRequirement already satisfied: six in /usr/local/lib/python3.6/dist-packages (from packaging->transformers==3.3.1) (1.15.0)\n",
            "Requirement already satisfied: pyparsing>=2.0.2 in /usr/local/lib/python3.6/dist-packages (from packaging->transformers==3.3.1) (2.4.7)\n",
            "Requirement already satisfied: click in /usr/local/lib/python3.6/dist-packages (from sacremoses->transformers==3.3.1) (7.1.2)\n",
            "Requirement already satisfied: joblib in /usr/local/lib/python3.6/dist-packages (from sacremoses->transformers==3.3.1) (0.16.0)\n",
            "Requirement already satisfied: urllib3!=1.25.0,!=1.25.1,<1.26,>=1.21.1 in /usr/local/lib/python3.6/dist-packages (from requests->transformers==3.3.1) (1.24.3)\n",
            "Requirement already satisfied: certifi>=2017.4.17 in /usr/local/lib/python3.6/dist-packages (from requests->transformers==3.3.1) (2020.6.20)\n",
            "Requirement already satisfied: chardet<4,>=3.0.2 in /usr/local/lib/python3.6/dist-packages (from requests->transformers==3.3.1) (3.0.4)\n",
            "Requirement already satisfied: idna<3,>=2.5 in /usr/local/lib/python3.6/dist-packages (from requests->transformers==3.3.1) (2.10)\n",
            "Building wheels for collected packages: sacremoses\n",
            "  Building wheel for sacremoses (setup.py) ... \u001b[?25l\u001b[?25hdone\n",
            "  Created wheel for sacremoses: filename=sacremoses-0.0.43-cp36-none-any.whl size=893257 sha256=c7420ebb9c9651be3e4669c558a56b26701b8e3d03d569085f782f1268da968a\n",
            "  Stored in directory: /root/.cache/pip/wheels/29/3c/fd/7ce5c3f0666dab31a50123635e6fb5e19ceb42ce38d4e58f45\n",
            "Successfully built sacremoses\n",
            "Installing collected packages: sacremoses, sentencepiece, tokenizers, transformers\n",
            "Successfully installed sacremoses-0.0.43 sentencepiece-0.1.91 tokenizers-0.8.1rc2 transformers-3.3.1\n"
          ],
          "name": "stdout"
        }
      ]
    },
    {
      "cell_type": "markdown",
      "metadata": {
        "id": "LnlYMWeCTUwd"
      },
      "source": [
        "## モデル・トークナイザ読み込み"
      ]
    },
    {
      "cell_type": "code",
      "metadata": {
        "id": "2h4yxBWL9EHt"
      },
      "source": [
        "from transformers import BartTokenizer, BartForConditionalGeneration, BartConfig\n",
        "model = BartForConditionalGeneration.from_pretrained('facebook/bart-large-cnn')\n",
        "tokenizer = BartTokenizer.from_pretrained('facebook/bart-large-cnn')\n"
      ],
      "execution_count": null,
      "outputs": []
    },
    {
      "cell_type": "markdown",
      "metadata": {
        "id": "l9Ix6n8xTFQw"
      },
      "source": [
        "## ソーステキストの指定"
      ]
    },
    {
      "cell_type": "markdown",
      "metadata": {
        "id": "PIB-QeXMTMlT"
      },
      "source": [
        "*   ソーステキストを指定して，トークナイズ＆id化する\n",
        "*   下記のARTICLE_TO_SUMMARIZE =\"\"の中身を自由に変更して要約を実行\n",
        "*   今回は例文として下記のサイト[こちら](https://edition.cnn.com/2020/10/19/politics/donald-trump-joe-biden-election-2020-coronavirus-fauci-masks/index.html)のニューステキスト（一部）を用いる\n",
        "\n",
        "\n",
        "---\n",
        "上記のニューステキストから一部抜粋したソーステキスト\n",
        "\n",
        "(CNN)President Donald Trump and the pandemic he is supposed to be fighting are running out of control with the two weeks until Election Day shaping up as among the most ugly and divisive periods ever ahead of a presidential vote. He's on a fresh collision course with Dr. Anthony Fauci, who's publicly questioning why Trump thinks mask wearing is weak after a wild weekend that saw the President, who's trailing former Vice President Joe Biden in the polls and still playing to his base, pack swing state rallies that flouted his government's Covid-19 protocols.\n",
        "\n"
      ]
    },
    {
      "cell_type": "code",
      "metadata": {
        "id": "o3DQ7XQ9SuE6",
        "outputId": "1547afd8-bce3-4940-d211-82776a105944",
        "colab": {
          "base_uri": "https://localhost:8080/",
          "height": 318
        }
      },
      "source": [
        "ARTICLE_TO_SUMMARIZE = \"(CNN)President Donald Trump and the pandemic he is supposed to be fighting are running out of control with the two weeks until Election Day shaping up as among the most ugly and divisive periods ever ahead of a presidential vote. He's on a fresh collision course with Dr. Anthony Fauci, who's publicly questioning why Trump thinks mask wearing is weak after a wild weekend that saw the President, who's trailing former Vice President Joe Biden in the polls and still playing to his base, pack swing state rallies that flouted his government's Covid-19 protocols.\"\n",
        "inputs = tokenizer([ARTICLE_TO_SUMMARIZE], max_length=1024, return_tensors='pt', truncation=True)\n",
        "print(inputs)"
      ],
      "execution_count": null,
      "outputs": [
        {
          "output_type": "stream",
          "text": [
            "{'input_ids': tensor([[    0,  1640, 16256,    43,  6517,   807,   140,     8,     5, 23387,\n",
            "         14414,    37,    16,  3518,     7,    28,  2190,    32,   878,    66,\n",
            "             9,   797,    19,     5,    80,   688,   454,  7713,  1053, 16383,\n",
            "            62,    25,   566,     5,   144, 11355,     8, 16067,  5788,   655,\n",
            "           789,     9,    10,  1939,   900,     4,    91,    18,    15,    10,\n",
            "          2310,  7329,   768,    19,   925,     4,  3173,   274,  1180,  2520,\n",
            "             6,    54,    18,  3271,  8026,   596,   140,  4265, 11445,  2498,\n",
            "            16,  3953,    71,    10,  3418,   983,    14,   794,     5,   270,\n",
            "             6,    54,    18, 12564,   320,  3287,   270,  2101, 15478,    11,\n",
            "             5,  4583,     8,   202,   816,     7,    39,  1542,     6,  6356,\n",
            "          7021,   194, 10881,    14,  2342, 23100,    39,   168,    18, 19150,\n",
            "           808,    12,  1646, 18956,     4,     2]]), 'attention_mask': tensor([[1, 1, 1, 1, 1, 1, 1, 1, 1, 1, 1, 1, 1, 1, 1, 1, 1, 1, 1, 1, 1, 1, 1, 1,\n",
            "         1, 1, 1, 1, 1, 1, 1, 1, 1, 1, 1, 1, 1, 1, 1, 1, 1, 1, 1, 1, 1, 1, 1, 1,\n",
            "         1, 1, 1, 1, 1, 1, 1, 1, 1, 1, 1, 1, 1, 1, 1, 1, 1, 1, 1, 1, 1, 1, 1, 1,\n",
            "         1, 1, 1, 1, 1, 1, 1, 1, 1, 1, 1, 1, 1, 1, 1, 1, 1, 1, 1, 1, 1, 1, 1, 1,\n",
            "         1, 1, 1, 1, 1, 1, 1, 1, 1, 1, 1, 1, 1, 1, 1, 1, 1, 1, 1, 1]])}\n"
          ],
          "name": "stdout"
        }
      ]
    },
    {
      "cell_type": "markdown",
      "metadata": {
        "id": "uRZCL48_S7-U"
      },
      "source": [
        "## 要約の生成"
      ]
    },
    {
      "cell_type": "markdown",
      "metadata": {
        "id": "RzsdEmE8VsmH"
      },
      "source": [
        "*   num_beamsを変えることで，どの範囲まで探索するかを変えることができる（この値を大きくするほど推論は遅くなる）\n",
        "*   max_lengthで要約の出力最大長を指定する．この長さを超える場合は強制的に終了する"
      ]
    },
    {
      "cell_type": "code",
      "metadata": {
        "id": "0fM_0DEYS4Yu",
        "outputId": "8265f1c0-4536-42ae-b04b-9eb1434d3d76",
        "colab": {
          "base_uri": "https://localhost:8080/",
          "height": 190
        }
      },
      "source": [
        "summary_ids = model.generate(inputs['input_ids'], num_beams=4, max_length=120, early_stopping=True)\n",
        "print(summary_ids)\n",
        "decoded_summary = [tokenizer.decode(g, skip_special_tokens=True, clean_up_tokenization_spaces=False) for g in summary_ids]\n",
        "print(decoded_summary)"
      ],
      "execution_count": null,
      "outputs": [
        {
          "output_type": "stream",
          "text": [
            "tensor([[    2,     0,  6517,   807,   140,     8,     5, 23387, 14414,    37,\n",
            "            16,  3518,     7,    28,  2190,    32,   878,    66,     9,   797,\n",
            "             4,    20,    80,   688,   454,  7713,  1053, 16383,    62,    25,\n",
            "           566,     5,   144, 11355,     8, 16067,  5788,   655,   789,     9,\n",
            "            10,  1939,   900,     4,    91,    18,    15,    10,  2310,  7329,\n",
            "           768,    19,   925,     4,  3173,   274,  1180,  2520,     6,    54,\n",
            "            18,  3271,  8026,   596,   140,  4265, 11445,  2498,    16,  3953,\n",
            "             4,     2]])\n",
            "[\"President Donald Trump and the pandemic he is supposed to be fighting are running out of control. The two weeks until Election Day shaping up as among the most ugly and divisive periods ever ahead of a presidential vote. He's on a fresh collision course with Dr. Anthony Fauci, who's publicly questioning why Trump thinks mask wearing is weak.\"]\n"
          ],
          "name": "stdout"
        }
      ]
    },
    {
      "cell_type": "markdown",
      "metadata": {
        "id": "MsRzY6fD2fyP"
      },
      "source": [
        "出力された要約\n",
        "\n",
        "\n",
        "---\n",
        "\n",
        "\n",
        "\"President Donald Trump and the pandemic he is supposed to be fighting are running out of control. The two weeks until Election Day shaping up as among the most ugly and divisive periods ever ahead of a presidential vote. He's on a fresh collision course with Dr. Anthony Fauci, who's publicly questioning why Trump thinks mask wearing is weak.\""
      ]
    }
  ]
}