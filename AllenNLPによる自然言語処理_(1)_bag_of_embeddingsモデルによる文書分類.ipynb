{
  "nbformat": 4,
  "nbformat_minor": 0,
  "metadata": {
    "colab": {
      "name": "AllenNLPによる自然言語処理 (1): bag-of-embeddingsモデルによる文書分類",
      "provenance": [],
      "collapsed_sections": [],
      "include_colab_link": true
    },
    "kernelspec": {
      "name": "python3",
      "display_name": "Python 3"
    },
    "accelerator": "GPU"
  },
  "cells": [
    {
      "cell_type": "markdown",
      "metadata": {
        "id": "view-in-github",
        "colab_type": "text"
      },
      "source": [
        "<a href=\"https://colab.research.google.com/github/otanet/NLP_seminar_20201022/blob/main/AllenNLP%E3%81%AB%E3%82%88%E3%82%8B%E8%87%AA%E7%84%B6%E8%A8%80%E8%AA%9E%E5%87%A6%E7%90%86_(1)_bag_of_embeddings%E3%83%A2%E3%83%87%E3%83%AB%E3%81%AB%E3%82%88%E3%82%8B%E6%96%87%E6%9B%B8%E5%88%86%E9%A1%9E.ipynb\" target=\"_parent\"><img src=\"https://colab.research.google.com/assets/colab-badge.svg\" alt=\"Open In Colab\"/></a>"
      ]
    },
    {
      "cell_type": "markdown",
      "metadata": {
        "id": "LeO_dLiJkG5B"
      },
      "source": [
        "# AllenNLPによる自然言語処理 (1): bag-of-embeddingsモデルによる文書分類"
      ]
    },
    {
      "cell_type": "markdown",
      "metadata": {
        "id": "z74Z2_t2l6Mt"
      },
      "source": [
        "**他のノートブックへのリンク：**\n",
        "\n",
        "* [AllenNLPによる自然言語処理 (2): 畳み込みニューラルネットワークによる感情分析](https://colab.research.google.com/drive/1v0YHDTFbQYixdxWf-pp1pZRZ4nkcsy2b?usp=sharing)\n",
        "* [AllenNLPによる自然言語処理 (3): BERTによる固有表現認識](https://colab.research.google.com/drive/13ga1yYYZkosGZy9ZinAB76blb-8k6yby?usp=sharing)"
      ]
    },
    {
      "cell_type": "markdown",
      "metadata": {
        "id": "QSBMWS5QtunG"
      },
      "source": [
        "このノートブックでは、ディープラーニングを用いた自然言語処理のためのツールである[AllenNLP](https://allennlp.org/)を用いて、文書分類のシステムを作成します。\n",
        "\n",
        "AllenNLPは、[Allen Institute for Artificial Intelligence](https://allenai.org/)という米国の研究機関が開発を行っているオープンソースのツールです。\n",
        "このツールは、ニューラルネットワークを用いた自然言語処理のモデルを効率的に開発することに特化して設計されていて、高度なニューラルネットワークのモデルを必要最低限の記述で実装できます。\n",
        "\n",
        "AllenNLPは、モデルの実装を行う方法として、下記の2つの方法が提供しています。\n",
        "\n",
        "* **Pythonを使う方法**: AllenNLPをライブラリとして用いて、必要な処理をPythonで記述する\n",
        "* **設定ファイルを書く方法**：[Jsonnet](https://jsonnet.org/)形式で設定ファイルを書くことでシステムを開発する\n",
        "\n",
        "このノートブックでは、まず[Livedoorニュースコーパス](https://www.rondhuit.com/download.html)を用いた文書分類システムをPythonで実装しながら、AllenNLPを使うにあたって理解する必要のある重要なコンポーネントの解説を行います。\n",
        "次にPythonで作成したシステムと同様のものを設定ファイルで作成する方法を説明します。"
      ]
    },
    {
      "cell_type": "markdown",
      "metadata": {
        "id": "zWHrIRahkI-g"
      },
      "source": [
        "## 環境のセットアップ"
      ]
    },
    {
      "cell_type": "markdown",
      "metadata": {
        "id": "SUjcZ6D4uzLU"
      },
      "source": [
        "本ノートブックの実行に必要なパッケージをインストールします。"
      ]
    },
    {
      "cell_type": "code",
      "metadata": {
        "id": "QEDk6RxI_jLG",
        "outputId": "97e6ae94-4e34-442e-d4bf-969fe5aec64d",
        "colab": {
          "base_uri": "https://localhost:8080/",
          "height": 1000
        }
      },
      "source": [
        "# MeCabをインストール\n",
        "!apt-get -qq install mecab swig libmecab-dev mecab-ipadic-utf8\n",
        "# MeCabのPythonバインディングとAllenNLPをインストール\n",
        "# （boto3はAllenNLPの依存ライブラリだが、最新バージョンだとエラーになるためバージョンを指定）\n",
        "!pip install \"mecab-python3==0.996.5\" \"allennlp==1.1.0\" \"boto3==1.15.0\""
      ],
      "execution_count": null,
      "outputs": [
        {
          "output_type": "stream",
          "text": [
            "Selecting previously unselected package libmecab2:amd64.\n",
            "(Reading database ... 144611 files and directories currently installed.)\n",
            "Preparing to unpack .../0-libmecab2_0.996-5_amd64.deb ...\n",
            "Unpacking libmecab2:amd64 (0.996-5) ...\n",
            "Selecting previously unselected package libmecab-dev.\n",
            "Preparing to unpack .../1-libmecab-dev_0.996-5_amd64.deb ...\n",
            "Unpacking libmecab-dev (0.996-5) ...\n",
            "Selecting previously unselected package mecab-utils.\n",
            "Preparing to unpack .../2-mecab-utils_0.996-5_amd64.deb ...\n",
            "Unpacking mecab-utils (0.996-5) ...\n",
            "Selecting previously unselected package mecab-jumandic-utf8.\n",
            "Preparing to unpack .../3-mecab-jumandic-utf8_7.0-20130310-4_all.deb ...\n",
            "Unpacking mecab-jumandic-utf8 (7.0-20130310-4) ...\n",
            "Selecting previously unselected package mecab-jumandic.\n",
            "Preparing to unpack .../4-mecab-jumandic_7.0-20130310-4_all.deb ...\n",
            "Unpacking mecab-jumandic (7.0-20130310-4) ...\n",
            "Selecting previously unselected package mecab-ipadic.\n",
            "Preparing to unpack .../5-mecab-ipadic_2.7.0-20070801+main-1_all.deb ...\n",
            "Unpacking mecab-ipadic (2.7.0-20070801+main-1) ...\n",
            "Selecting previously unselected package mecab.\n",
            "Preparing to unpack .../6-mecab_0.996-5_amd64.deb ...\n",
            "Unpacking mecab (0.996-5) ...\n",
            "Selecting previously unselected package mecab-ipadic-utf8.\n",
            "Preparing to unpack .../7-mecab-ipadic-utf8_2.7.0-20070801+main-1_all.deb ...\n",
            "Unpacking mecab-ipadic-utf8 (2.7.0-20070801+main-1) ...\n",
            "Selecting previously unselected package swig3.0.\n",
            "Preparing to unpack .../8-swig3.0_3.0.12-1_amd64.deb ...\n",
            "Unpacking swig3.0 (3.0.12-1) ...\n",
            "Selecting previously unselected package swig.\n",
            "Preparing to unpack .../9-swig_3.0.12-1_amd64.deb ...\n",
            "Unpacking swig (3.0.12-1) ...\n",
            "Setting up swig3.0 (3.0.12-1) ...\n",
            "Setting up libmecab2:amd64 (0.996-5) ...\n",
            "Setting up mecab-utils (0.996-5) ...\n",
            "Setting up mecab-ipadic (2.7.0-20070801+main-1) ...\n",
            "Compiling IPA dictionary for Mecab.  This takes long time...\n",
            "reading /usr/share/mecab/dic/ipadic/unk.def ... 40\n",
            "emitting double-array: 100% |###########################################| \n",
            "/usr/share/mecab/dic/ipadic/model.def is not found. skipped.\n",
            "reading /usr/share/mecab/dic/ipadic/Filler.csv ... 19\n",
            "reading /usr/share/mecab/dic/ipadic/Adverb.csv ... 3032\n",
            "reading /usr/share/mecab/dic/ipadic/Postp.csv ... 146\n",
            "reading /usr/share/mecab/dic/ipadic/Noun.csv ... 60477\n",
            "reading /usr/share/mecab/dic/ipadic/Symbol.csv ... 208\n",
            "reading /usr/share/mecab/dic/ipadic/Conjunction.csv ... 171\n",
            "reading /usr/share/mecab/dic/ipadic/Noun.proper.csv ... 27327\n",
            "reading /usr/share/mecab/dic/ipadic/Interjection.csv ... 252\n",
            "reading /usr/share/mecab/dic/ipadic/Noun.number.csv ... 42\n",
            "reading /usr/share/mecab/dic/ipadic/Noun.demonst.csv ... 120\n",
            "reading /usr/share/mecab/dic/ipadic/Auxil.csv ... 199\n",
            "reading /usr/share/mecab/dic/ipadic/Noun.verbal.csv ... 12146\n",
            "reading /usr/share/mecab/dic/ipadic/Noun.adverbal.csv ... 795\n",
            "reading /usr/share/mecab/dic/ipadic/Adnominal.csv ... 135\n",
            "reading /usr/share/mecab/dic/ipadic/Prefix.csv ... 221\n",
            "reading /usr/share/mecab/dic/ipadic/Postp-col.csv ... 91\n",
            "reading /usr/share/mecab/dic/ipadic/Suffix.csv ... 1393\n",
            "reading /usr/share/mecab/dic/ipadic/Noun.name.csv ... 34202\n",
            "reading /usr/share/mecab/dic/ipadic/Adj.csv ... 27210\n",
            "reading /usr/share/mecab/dic/ipadic/Noun.others.csv ... 151\n",
            "reading /usr/share/mecab/dic/ipadic/Others.csv ... 2\n",
            "reading /usr/share/mecab/dic/ipadic/Verb.csv ... 130750\n",
            "reading /usr/share/mecab/dic/ipadic/Noun.org.csv ... 16668\n",
            "reading /usr/share/mecab/dic/ipadic/Noun.nai.csv ... 42\n",
            "reading /usr/share/mecab/dic/ipadic/Noun.place.csv ... 72999\n",
            "reading /usr/share/mecab/dic/ipadic/Noun.adjv.csv ... 3328\n",
            "emitting double-array: 100% |###########################################| \n",
            "reading /usr/share/mecab/dic/ipadic/matrix.def ... 1316x1316\n",
            "emitting matrix      : 100% |###########################################| \n",
            "\n",
            "done!\n",
            "update-alternatives: using /var/lib/mecab/dic/ipadic to provide /var/lib/mecab/dic/debian (mecab-dictionary) in auto mode\n",
            "Setting up swig (3.0.12-1) ...\n",
            "Setting up libmecab-dev (0.996-5) ...\n",
            "Setting up mecab-jumandic-utf8 (7.0-20130310-4) ...\n",
            "Compiling Juman dictionary for Mecab.\n",
            "reading /usr/share/mecab/dic/juman/unk.def ... 37\n",
            "emitting double-array: 100% |###########################################| \n",
            "reading /usr/share/mecab/dic/juman/Postp.csv ... 108\n",
            "reading /usr/share/mecab/dic/juman/Assert.csv ... 34\n",
            "reading /usr/share/mecab/dic/juman/Noun.hukusi.csv ... 81\n",
            "reading /usr/share/mecab/dic/juman/Noun.keishiki.csv ... 8\n",
            "reading /usr/share/mecab/dic/juman/Rengo.csv ... 1118\n",
            "reading /usr/share/mecab/dic/juman/Wikipedia.csv ... 167709\n",
            "reading /usr/share/mecab/dic/juman/Special.csv ... 158\n",
            "reading /usr/share/mecab/dic/juman/Demonstrative.csv ... 97\n",
            "reading /usr/share/mecab/dic/juman/AuxV.csv ... 593\n",
            "reading /usr/share/mecab/dic/juman/Prefix.csv ... 90\n",
            "reading /usr/share/mecab/dic/juman/Suffix.csv ... 2128\n",
            "reading /usr/share/mecab/dic/juman/ContentW.csv ... 551145\n",
            "reading /usr/share/mecab/dic/juman/Auto.csv ... 18931\n",
            "reading /usr/share/mecab/dic/juman/Emoticon.csv ... 972\n",
            "reading /usr/share/mecab/dic/juman/Noun.koyuu.csv ... 7964\n",
            "reading /usr/share/mecab/dic/juman/Noun.suusi.csv ... 49\n",
            "emitting double-array: 100% |###########################################| \n",
            "reading /usr/share/mecab/dic/juman/matrix.def ... 1876x1876\n",
            "emitting matrix      : 100% |###########################################| \n",
            "\n",
            "done!\n",
            "Setting up mecab-ipadic-utf8 (2.7.0-20070801+main-1) ...\n",
            "Compiling IPA dictionary for Mecab.  This takes long time...\n",
            "reading /usr/share/mecab/dic/ipadic/unk.def ... 40\n",
            "emitting double-array: 100% |###########################################| \n",
            "/usr/share/mecab/dic/ipadic/model.def is not found. skipped.\n",
            "reading /usr/share/mecab/dic/ipadic/Filler.csv ... 19\n",
            "reading /usr/share/mecab/dic/ipadic/Adverb.csv ... 3032\n",
            "reading /usr/share/mecab/dic/ipadic/Postp.csv ... 146\n",
            "reading /usr/share/mecab/dic/ipadic/Noun.csv ... 60477\n",
            "reading /usr/share/mecab/dic/ipadic/Symbol.csv ... 208\n",
            "reading /usr/share/mecab/dic/ipadic/Conjunction.csv ... 171\n",
            "reading /usr/share/mecab/dic/ipadic/Noun.proper.csv ... 27327\n",
            "reading /usr/share/mecab/dic/ipadic/Interjection.csv ... 252\n",
            "reading /usr/share/mecab/dic/ipadic/Noun.number.csv ... 42\n",
            "reading /usr/share/mecab/dic/ipadic/Noun.demonst.csv ... 120\n",
            "reading /usr/share/mecab/dic/ipadic/Auxil.csv ... 199\n",
            "reading /usr/share/mecab/dic/ipadic/Noun.verbal.csv ... 12146\n",
            "reading /usr/share/mecab/dic/ipadic/Noun.adverbal.csv ... 795\n",
            "reading /usr/share/mecab/dic/ipadic/Adnominal.csv ... 135\n",
            "reading /usr/share/mecab/dic/ipadic/Prefix.csv ... 221\n",
            "reading /usr/share/mecab/dic/ipadic/Postp-col.csv ... 91\n",
            "reading /usr/share/mecab/dic/ipadic/Suffix.csv ... 1393\n",
            "reading /usr/share/mecab/dic/ipadic/Noun.name.csv ... 34202\n",
            "reading /usr/share/mecab/dic/ipadic/Adj.csv ... 27210\n",
            "reading /usr/share/mecab/dic/ipadic/Noun.others.csv ... 151\n",
            "reading /usr/share/mecab/dic/ipadic/Others.csv ... 2\n",
            "reading /usr/share/mecab/dic/ipadic/Verb.csv ... 130750\n",
            "reading /usr/share/mecab/dic/ipadic/Noun.org.csv ... 16668\n",
            "reading /usr/share/mecab/dic/ipadic/Noun.nai.csv ... 42\n",
            "reading /usr/share/mecab/dic/ipadic/Noun.place.csv ... 72999\n",
            "reading /usr/share/mecab/dic/ipadic/Noun.adjv.csv ... 3328\n",
            "emitting double-array: 100% |###########################################| \n",
            "reading /usr/share/mecab/dic/ipadic/matrix.def ... 1316x1316\n",
            "emitting matrix      : 100% |###########################################| \n",
            "\n",
            "done!\n",
            "update-alternatives: using /var/lib/mecab/dic/ipadic-utf8 to provide /var/lib/mecab/dic/debian (mecab-dictionary) in auto mode\n",
            "Setting up mecab (0.996-5) ...\n",
            "Compiling IPA dictionary for Mecab.  This takes long time...\n",
            "reading /usr/share/mecab/dic/ipadic/unk.def ... 40\n",
            "emitting double-array: 100% |###########################################| \n",
            "/usr/share/mecab/dic/ipadic/model.def is not found. skipped.\n",
            "reading /usr/share/mecab/dic/ipadic/Filler.csv ... 19\n",
            "reading /usr/share/mecab/dic/ipadic/Adverb.csv ... 3032\n",
            "reading /usr/share/mecab/dic/ipadic/Postp.csv ... 146\n",
            "reading /usr/share/mecab/dic/ipadic/Noun.csv ... 60477\n",
            "reading /usr/share/mecab/dic/ipadic/Symbol.csv ... 208\n",
            "reading /usr/share/mecab/dic/ipadic/Conjunction.csv ... 171\n",
            "reading /usr/share/mecab/dic/ipadic/Noun.proper.csv ... 27327\n",
            "reading /usr/share/mecab/dic/ipadic/Interjection.csv ... 252\n",
            "reading /usr/share/mecab/dic/ipadic/Noun.number.csv ... 42\n",
            "reading /usr/share/mecab/dic/ipadic/Noun.demonst.csv ... 120\n",
            "reading /usr/share/mecab/dic/ipadic/Auxil.csv ... 199\n",
            "reading /usr/share/mecab/dic/ipadic/Noun.verbal.csv ... 12146\n",
            "reading /usr/share/mecab/dic/ipadic/Noun.adverbal.csv ... 795\n",
            "reading /usr/share/mecab/dic/ipadic/Adnominal.csv ... 135\n",
            "reading /usr/share/mecab/dic/ipadic/Prefix.csv ... 221\n",
            "reading /usr/share/mecab/dic/ipadic/Postp-col.csv ... 91\n",
            "reading /usr/share/mecab/dic/ipadic/Suffix.csv ... 1393\n",
            "reading /usr/share/mecab/dic/ipadic/Noun.name.csv ... 34202\n",
            "reading /usr/share/mecab/dic/ipadic/Adj.csv ... 27210\n",
            "reading /usr/share/mecab/dic/ipadic/Noun.others.csv ... 151\n",
            "reading /usr/share/mecab/dic/ipadic/Others.csv ... 2\n",
            "reading /usr/share/mecab/dic/ipadic/Verb.csv ... 130750\n",
            "reading /usr/share/mecab/dic/ipadic/Noun.org.csv ... 16668\n",
            "reading /usr/share/mecab/dic/ipadic/Noun.nai.csv ... 42\n",
            "reading /usr/share/mecab/dic/ipadic/Noun.place.csv ... 72999\n",
            "reading /usr/share/mecab/dic/ipadic/Noun.adjv.csv ... 3328\n",
            "emitting double-array: 100% |###########################################| \n",
            "reading /usr/share/mecab/dic/ipadic/matrix.def ... 1316x1316\n",
            "emitting matrix      : 100% |###########################################| \n",
            "\n",
            "done!\n",
            "Setting up mecab-jumandic (7.0-20130310-4) ...\n",
            "Processing triggers for man-db (2.8.3-2ubuntu0.1) ...\n",
            "Processing triggers for libc-bin (2.27-3ubuntu1.2) ...\n",
            "/sbin/ldconfig.real: /usr/local/lib/python3.6/dist-packages/ideep4py/lib/libmkldnn.so.0 is not a symbolic link\n",
            "\n",
            "Collecting mecab-python3==0.996.5\n",
            "\u001b[?25l  Downloading https://files.pythonhosted.org/packages/18/49/b55a839a77189042960bf96490640c44816073f917d489acbc5d79fa5cc3/mecab_python3-0.996.5-cp36-cp36m-manylinux2010_x86_64.whl (17.1MB)\n",
            "\u001b[K     |████████████████████████████████| 17.1MB 173kB/s \n",
            "\u001b[?25hCollecting allennlp==1.1.0\n",
            "\u001b[?25l  Downloading https://files.pythonhosted.org/packages/a5/95/d1d606fff85b537ba6dd133ed998ab62bf0c950feb6df2d101c0ec804ca6/allennlp-1.1.0-py3-none-any.whl (485kB)\n",
            "\u001b[K     |████████████████████████████████| 491kB 52.5MB/s \n",
            "\u001b[?25hCollecting boto3==1.15.0\n",
            "\u001b[?25l  Downloading https://files.pythonhosted.org/packages/13/a1/d9e77245939ec608f0787545824356705f2341c395c5a37e9778bdb1cd98/boto3-1.15.0-py2.py3-none-any.whl (129kB)\n",
            "\u001b[K     |████████████████████████████████| 133kB 57.5MB/s \n",
            "\u001b[?25hRequirement already satisfied: numpy in /usr/local/lib/python3.6/dist-packages (from allennlp==1.1.0) (1.18.5)\n",
            "Requirement already satisfied: filelock<3.1,>=3.0 in /usr/local/lib/python3.6/dist-packages (from allennlp==1.1.0) (3.0.12)\n",
            "Collecting overrides==3.1.0\n",
            "  Downloading https://files.pythonhosted.org/packages/ff/b1/10f69c00947518e6676bbd43e739733048de64b8dd998e9c2d5a71f44c5d/overrides-3.1.0.tar.gz\n",
            "Requirement already satisfied: torch<1.7.0,>=1.6.0 in /usr/local/lib/python3.6/dist-packages (from allennlp==1.1.0) (1.6.0+cu101)\n",
            "Requirement already satisfied: tqdm>=4.19 in /usr/local/lib/python3.6/dist-packages (from allennlp==1.1.0) (4.41.1)\n",
            "Requirement already satisfied: scikit-learn in /usr/local/lib/python3.6/dist-packages (from allennlp==1.1.0) (0.22.2.post1)\n",
            "Collecting transformers<3.1,>=3.0\n",
            "\u001b[?25l  Downloading https://files.pythonhosted.org/packages/27/3c/91ed8f5c4e7ef3227b4119200fc0ed4b4fd965b1f0172021c25701087825/transformers-3.0.2-py3-none-any.whl (769kB)\n",
            "\u001b[K     |████████████████████████████████| 778kB 57.0MB/s \n",
            "\u001b[?25hCollecting jsonpickle\n",
            "  Downloading https://files.pythonhosted.org/packages/af/ca/4fee219cc4113a5635e348ad951cf8a2e47fed2e3342312493f5b73d0007/jsonpickle-1.4.1-py2.py3-none-any.whl\n",
            "Requirement already satisfied: dataclasses; python_version < \"3.7\" in /usr/local/lib/python3.6/dist-packages (from allennlp==1.1.0) (0.7)\n",
            "Requirement already satisfied: spacy<2.4,>=2.1.0 in /usr/local/lib/python3.6/dist-packages (from allennlp==1.1.0) (2.2.4)\n",
            "Requirement already satisfied: scipy in /usr/local/lib/python3.6/dist-packages (from allennlp==1.1.0) (1.4.1)\n",
            "Collecting tensorboardX>=1.2\n",
            "\u001b[?25l  Downloading https://files.pythonhosted.org/packages/af/0c/4f41bcd45db376e6fe5c619c01100e9b7531c55791b7244815bac6eac32c/tensorboardX-2.1-py2.py3-none-any.whl (308kB)\n",
            "\u001b[K     |████████████████████████████████| 317kB 54.1MB/s \n",
            "\u001b[?25hCollecting jsonnet>=0.10.0; sys_platform != \"win32\"\n",
            "\u001b[?25l  Downloading https://files.pythonhosted.org/packages/86/70/ed1ba808a87d896b9f4d25400dda54e089ca7a97e87cee620b3744997c89/jsonnet-0.16.0.tar.gz (256kB)\n",
            "\u001b[K     |████████████████████████████████| 266kB 49.7MB/s \n",
            "\u001b[?25hRequirement already satisfied: nltk in /usr/local/lib/python3.6/dist-packages (from allennlp==1.1.0) (3.2.5)\n",
            "Requirement already satisfied: requests>=2.18 in /usr/local/lib/python3.6/dist-packages (from allennlp==1.1.0) (2.23.0)\n",
            "Requirement already satisfied: h5py in /usr/local/lib/python3.6/dist-packages (from allennlp==1.1.0) (2.10.0)\n",
            "Requirement already satisfied: pytest in /usr/local/lib/python3.6/dist-packages (from allennlp==1.1.0) (3.6.4)\n",
            "Collecting s3transfer<0.4.0,>=0.3.0\n",
            "\u001b[?25l  Downloading https://files.pythonhosted.org/packages/69/79/e6afb3d8b0b4e96cefbdc690f741d7dd24547ff1f94240c997a26fa908d3/s3transfer-0.3.3-py2.py3-none-any.whl (69kB)\n",
            "\u001b[K     |████████████████████████████████| 71kB 11.0MB/s \n",
            "\u001b[?25hCollecting jmespath<1.0.0,>=0.7.1\n",
            "  Downloading https://files.pythonhosted.org/packages/07/cb/5f001272b6faeb23c1c9e0acc04d48eaaf5c862c17709d20e3469c6e0139/jmespath-0.10.0-py2.py3-none-any.whl\n",
            "Collecting botocore<1.19.0,>=1.18.0\n",
            "\u001b[?25l  Downloading https://files.pythonhosted.org/packages/2d/72/984ac8f33b5c8df5ff63f323a8724f65b4d0f8956968b942b77d35d3a1ef/botocore-1.18.18-py2.py3-none-any.whl (6.7MB)\n",
            "\u001b[K     |████████████████████████████████| 6.7MB 58.0MB/s \n",
            "\u001b[?25hRequirement already satisfied: future in /usr/local/lib/python3.6/dist-packages (from torch<1.7.0,>=1.6.0->allennlp==1.1.0) (0.16.0)\n",
            "Requirement already satisfied: joblib>=0.11 in /usr/local/lib/python3.6/dist-packages (from scikit-learn->allennlp==1.1.0) (0.16.0)\n",
            "Requirement already satisfied: packaging in /usr/local/lib/python3.6/dist-packages (from transformers<3.1,>=3.0->allennlp==1.1.0) (20.4)\n",
            "Collecting tokenizers==0.8.1.rc1\n",
            "\u001b[?25l  Downloading https://files.pythonhosted.org/packages/40/d0/30d5f8d221a0ed981a186c8eb986ce1c94e3a6e87f994eae9f4aa5250217/tokenizers-0.8.1rc1-cp36-cp36m-manylinux1_x86_64.whl (3.0MB)\n",
            "\u001b[K     |████████████████████████████████| 3.0MB 57.3MB/s \n",
            "\u001b[?25hCollecting sentencepiece!=0.1.92\n",
            "\u001b[?25l  Downloading https://files.pythonhosted.org/packages/d4/a4/d0a884c4300004a78cca907a6ff9a5e9fe4f090f5d95ab341c53d28cbc58/sentencepiece-0.1.91-cp36-cp36m-manylinux1_x86_64.whl (1.1MB)\n",
            "\u001b[K     |████████████████████████████████| 1.1MB 55.8MB/s \n",
            "\u001b[?25hCollecting sacremoses\n",
            "\u001b[?25l  Downloading https://files.pythonhosted.org/packages/7d/34/09d19aff26edcc8eb2a01bed8e98f13a1537005d31e95233fd48216eed10/sacremoses-0.0.43.tar.gz (883kB)\n",
            "\u001b[K     |████████████████████████████████| 890kB 53.3MB/s \n",
            "\u001b[?25hRequirement already satisfied: regex!=2019.12.17 in /usr/local/lib/python3.6/dist-packages (from transformers<3.1,>=3.0->allennlp==1.1.0) (2019.12.20)\n",
            "Requirement already satisfied: importlib-metadata in /usr/local/lib/python3.6/dist-packages (from jsonpickle->allennlp==1.1.0) (2.0.0)\n",
            "Requirement already satisfied: plac<1.2.0,>=0.9.6 in /usr/local/lib/python3.6/dist-packages (from spacy<2.4,>=2.1.0->allennlp==1.1.0) (1.1.3)\n",
            "Requirement already satisfied: blis<0.5.0,>=0.4.0 in /usr/local/lib/python3.6/dist-packages (from spacy<2.4,>=2.1.0->allennlp==1.1.0) (0.4.1)\n",
            "Requirement already satisfied: wasabi<1.1.0,>=0.4.0 in /usr/local/lib/python3.6/dist-packages (from spacy<2.4,>=2.1.0->allennlp==1.1.0) (0.8.0)\n",
            "Requirement already satisfied: thinc==7.4.0 in /usr/local/lib/python3.6/dist-packages (from spacy<2.4,>=2.1.0->allennlp==1.1.0) (7.4.0)\n",
            "Requirement already satisfied: srsly<1.1.0,>=1.0.2 in /usr/local/lib/python3.6/dist-packages (from spacy<2.4,>=2.1.0->allennlp==1.1.0) (1.0.2)\n",
            "Requirement already satisfied: murmurhash<1.1.0,>=0.28.0 in /usr/local/lib/python3.6/dist-packages (from spacy<2.4,>=2.1.0->allennlp==1.1.0) (1.0.2)\n",
            "Requirement already satisfied: catalogue<1.1.0,>=0.0.7 in /usr/local/lib/python3.6/dist-packages (from spacy<2.4,>=2.1.0->allennlp==1.1.0) (1.0.0)\n",
            "Requirement already satisfied: setuptools in /usr/local/lib/python3.6/dist-packages (from spacy<2.4,>=2.1.0->allennlp==1.1.0) (50.3.0)\n",
            "Requirement already satisfied: cymem<2.1.0,>=2.0.2 in /usr/local/lib/python3.6/dist-packages (from spacy<2.4,>=2.1.0->allennlp==1.1.0) (2.0.3)\n",
            "Requirement already satisfied: preshed<3.1.0,>=3.0.2 in /usr/local/lib/python3.6/dist-packages (from spacy<2.4,>=2.1.0->allennlp==1.1.0) (3.0.2)\n",
            "Requirement already satisfied: protobuf>=3.8.0 in /usr/local/lib/python3.6/dist-packages (from tensorboardX>=1.2->allennlp==1.1.0) (3.12.4)\n",
            "Requirement already satisfied: six in /usr/local/lib/python3.6/dist-packages (from tensorboardX>=1.2->allennlp==1.1.0) (1.15.0)\n",
            "Requirement already satisfied: chardet<4,>=3.0.2 in /usr/local/lib/python3.6/dist-packages (from requests>=2.18->allennlp==1.1.0) (3.0.4)\n",
            "Requirement already satisfied: idna<3,>=2.5 in /usr/local/lib/python3.6/dist-packages (from requests>=2.18->allennlp==1.1.0) (2.10)\n",
            "Requirement already satisfied: urllib3!=1.25.0,!=1.25.1,<1.26,>=1.21.1 in /usr/local/lib/python3.6/dist-packages (from requests>=2.18->allennlp==1.1.0) (1.24.3)\n",
            "Requirement already satisfied: certifi>=2017.4.17 in /usr/local/lib/python3.6/dist-packages (from requests>=2.18->allennlp==1.1.0) (2020.6.20)\n",
            "Requirement already satisfied: py>=1.5.0 in /usr/local/lib/python3.6/dist-packages (from pytest->allennlp==1.1.0) (1.9.0)\n",
            "Requirement already satisfied: pluggy<0.8,>=0.5 in /usr/local/lib/python3.6/dist-packages (from pytest->allennlp==1.1.0) (0.7.1)\n",
            "Requirement already satisfied: more-itertools>=4.0.0 in /usr/local/lib/python3.6/dist-packages (from pytest->allennlp==1.1.0) (8.5.0)\n",
            "Requirement already satisfied: attrs>=17.4.0 in /usr/local/lib/python3.6/dist-packages (from pytest->allennlp==1.1.0) (20.2.0)\n",
            "Requirement already satisfied: atomicwrites>=1.0 in /usr/local/lib/python3.6/dist-packages (from pytest->allennlp==1.1.0) (1.4.0)\n",
            "Requirement already satisfied: python-dateutil<3.0.0,>=2.1 in /usr/local/lib/python3.6/dist-packages (from botocore<1.19.0,>=1.18.0->boto3==1.15.0) (2.8.1)\n",
            "Requirement already satisfied: pyparsing>=2.0.2 in /usr/local/lib/python3.6/dist-packages (from packaging->transformers<3.1,>=3.0->allennlp==1.1.0) (2.4.7)\n",
            "Requirement already satisfied: click in /usr/local/lib/python3.6/dist-packages (from sacremoses->transformers<3.1,>=3.0->allennlp==1.1.0) (7.1.2)\n",
            "Requirement already satisfied: zipp>=0.5 in /usr/local/lib/python3.6/dist-packages (from importlib-metadata->jsonpickle->allennlp==1.1.0) (3.2.0)\n",
            "Building wheels for collected packages: overrides, jsonnet, sacremoses\n",
            "  Building wheel for overrides (setup.py) ... \u001b[?25l\u001b[?25hdone\n",
            "  Created wheel for overrides: filename=overrides-3.1.0-cp36-none-any.whl size=10174 sha256=54d6a2f220b1e9c9949d649458da8fad9e150620751bf73c508ed7517f283fe1\n",
            "  Stored in directory: /root/.cache/pip/wheels/5c/24/13/6ef8600e6f147c95e595f1289a86a3cc82ed65df57582c65a9\n",
            "  Building wheel for jsonnet (setup.py) ... \u001b[?25l\u001b[?25hdone\n",
            "  Created wheel for jsonnet: filename=jsonnet-0.16.0-cp36-cp36m-linux_x86_64.whl size=3321551 sha256=1eef250964ccba5930c02ac115c415f4f5cb87c2edc3f4df62cf9a910535a93e\n",
            "  Stored in directory: /root/.cache/pip/wheels/64/a9/43/bc5e0463deeec89dfca928a2a64595f1bdb520c891f6fbd09c\n",
            "  Building wheel for sacremoses (setup.py) ... \u001b[?25l\u001b[?25hdone\n",
            "  Created wheel for sacremoses: filename=sacremoses-0.0.43-cp36-none-any.whl size=893257 sha256=0dbe68c48e22c46d2e5c25725334695cc925a65de1ad6518ba15e315ebb8ed9f\n",
            "  Stored in directory: /root/.cache/pip/wheels/29/3c/fd/7ce5c3f0666dab31a50123635e6fb5e19ceb42ce38d4e58f45\n",
            "Successfully built overrides jsonnet sacremoses\n",
            "Installing collected packages: mecab-python3, overrides, jmespath, botocore, s3transfer, boto3, tokenizers, sentencepiece, sacremoses, transformers, jsonpickle, tensorboardX, jsonnet, allennlp\n",
            "Successfully installed allennlp-1.1.0 boto3-1.15.0 botocore-1.18.18 jmespath-0.10.0 jsonnet-0.16.0 jsonpickle-1.4.1 mecab-python3-0.996.5 overrides-3.1.0 s3transfer-0.3.3 sacremoses-0.0.43 sentencepiece-0.1.91 tensorboardX-2.1 tokenizers-0.8.1rc1 transformers-3.0.2\n"
          ],
          "name": "stdout"
        }
      ]
    },
    {
      "cell_type": "markdown",
      "metadata": {
        "id": "hc8kVPofkQ1d"
      },
      "source": [
        "## データセットのセットアップ"
      ]
    },
    {
      "cell_type": "markdown",
      "metadata": {
        "id": "5Dj5rjk2ZvvJ"
      },
      "source": [
        "本ノートブックでは、データセットとして[Livedoorニュースコーパス](https://www.rondhuit.com/download.html)を用います。このデータセットは、LivedoorニュースというWebニュースサイトから収集されたニュース記事に対して9種類のラベルが付与された日本語のデータセットです。 ラベルは、それぞれニュース記事を取得したサービスの名称に対応しています。\n",
        "\n",
        "Livedoorニュースで使われている9種類のラベルと対応するサービス名称：\n",
        "\n",
        "| ラベル | サービス名称 |\n",
        "| --- | --- |\n",
        "| dokujo-tsushin | 独女通信 |\n",
        "| it-life-hack | ITライフハック |\n",
        "| kaden-channel | 家電チャンネル |\n",
        "| livedoor-homme | livedoor HOMME |\n",
        "| movie-enter | MOVIE ENTER |\n",
        "| peachy | Peachy |\n",
        "| smax | エスマックス |\n",
        "| sports-watch | Sports Watch |\n",
        "| topic-news | トピックニュース |"
      ]
    },
    {
      "cell_type": "markdown",
      "metadata": {
        "id": "kUwwnajtkWeE"
      },
      "source": [
        "### データセットのダウンロード"
      ]
    },
    {
      "cell_type": "markdown",
      "metadata": {
        "id": "xOL5DACg83lt"
      },
      "source": [
        "データセットをダウンロードして展開します。下記のコマンドによって、`data/livedoor_news/text`にデータセットが出力されます。"
      ]
    },
    {
      "cell_type": "code",
      "metadata": {
        "id": "7So8lLxGFQPl"
      },
      "source": [
        "# データセットの出力ディレクトリを作成\n",
        "!mkdir -p data/livedoor_news\n",
        "# データセットをダウンロード\n",
        "!wget -q -O data/livedoor_news/ldcc-20140209.tar.gz https://www.rondhuit.com/download/ldcc-20140209.tar.gz\n",
        "# データセットを解凍し、data/livedoor_newsに展開\n",
        "!tar xzf data/livedoor_news/ldcc-20140209.tar.gz -C data/livedoor_news"
      ],
      "execution_count": null,
      "outputs": []
    },
    {
      "cell_type": "markdown",
      "metadata": {
        "id": "sU86yaOmucwg"
      },
      "source": [
        "`data/livedoor_news/text`には、ラベルと同一のディレクトリ名に記事が格納されます。"
      ]
    },
    {
      "cell_type": "code",
      "metadata": {
        "id": "8nKQZpF719uz",
        "outputId": "0e4c8a40-c296-4d4e-cb6c-767b2c6dc9d3",
        "colab": {
          "base_uri": "https://localhost:8080/",
          "height": 51
        }
      },
      "source": [
        "# data/livedoor_news.text以下のディレクトリを列挙\n",
        "!cd data/livedoor_news/text; ls -d */"
      ],
      "execution_count": null,
      "outputs": [
        {
          "output_type": "stream",
          "text": [
            "dokujo-tsushin/  kaden-channel/   movie-enter/\tsmax/\t       topic-news/\n",
            "it-life-hack/\t livedoor-homme/  peachy/\tsports-watch/\n"
          ],
          "name": "stdout"
        }
      ]
    },
    {
      "cell_type": "markdown",
      "metadata": {
        "id": "nj6sbj0NkaPr"
      },
      "source": [
        "### データセットを行区切りJSON形式に変換"
      ]
    },
    {
      "cell_type": "markdown",
      "metadata": {
        "id": "Rghn5hJuAvQK"
      },
      "source": [
        "データセットをAllenNLPの`TextClassificationJsonReader`で読み込める[行区切りJSON（JSON lines）](https://jsonlines.org/)形式に変換します。\n",
        "このスクリプトはデータセットを読み込んで8:1:1の割合でそれぞれ訓練用、検証用、テスト用に分割し、保存します。"
      ]
    },
    {
      "cell_type": "code",
      "metadata": {
        "id": "gGIR74-E9W6E"
      },
      "source": [
        "import glob\n",
        "import json\n",
        "import os\n",
        "import random\n",
        "\n",
        "import torch\n",
        "\n",
        "# ラベルとして用いられる9個のカテゴリ\n",
        "labels = [\"dokujo-tsushin\", \"it-life-hack\", \"kaden-channel\", \"livedoor-homme\",\n",
        "          \"movie-enter\", \"peachy\", \"smax\", \"sports-watch\", \"topic-news\"]\n",
        "data = []\n",
        "\n",
        "# データセットをファイルから読み込む\n",
        "for label in labels:\n",
        "    dir_path = os.path.join(\"data/livedoor_news/text\", label)\n",
        "    for file_path in sorted(glob.glob(os.path.join(dir_path, \"*.txt\"))):\n",
        "        with open(file_path) as f:\n",
        "            text = f.read()\n",
        "            # メタデータを削除し、記事部分のみを用いる\n",
        "            text = \"\".join(text.split(\"\\n\")[2:])\n",
        "        data.append(dict(text=text, label=label))\n",
        "\n",
        "# データセットをランダムに並べ替える\n",
        "random.seed(1)\n",
        "random.shuffle(data)\n",
        "\n",
        "# データセットの80%を訓練データ、10%を検証データ、10%をテストデータとして用いる\n",
        "split_data = {}\n",
        "eval_size = int(len(data) * 0.1)\n",
        "split_data[\"test\"] = data[:eval_size]\n",
        "split_data[\"validation\"] = data[eval_size:eval_size * 2]\n",
        "split_data[\"train\"] = data[eval_size * 2:]\n",
        "\n",
        "# 行区切りJSON形式でデータセットを書き込む\n",
        "for fold in (\"train\", \"validation\", \"test\"):\n",
        "    out_file = os.path.join(\"data/livedoor_news\", \"livedoor_news_{}.jsonl\".format(fold))\n",
        "    with open(out_file, mode=\"w\") as f:\n",
        "        for item in split_data[fold]:\n",
        "            json.dump(item, f, ensure_ascii=False)\n",
        "            f.write(\"\\n\")"
      ],
      "execution_count": null,
      "outputs": []
    },
    {
      "cell_type": "markdown",
      "metadata": {
        "id": "5TtwOcMUG4h0"
      },
      "source": [
        "3個のファイルが`data/livedoor_news`に生成されます。\n",
        "\n",
        "* **訓練用のデータ**: `livedoor_news_train.jsonl`\n",
        "* **検証用のデータ**: `livedoor_news_validation.jsonl`\n",
        "* **テスト用のデータ**: `livedoor_news_test.jsonl`"
      ]
    },
    {
      "cell_type": "code",
      "metadata": {
        "id": "2cWebi7EGtKz",
        "outputId": "00dfa3cb-b0ad-41b8-9336-e65ff7480e54",
        "colab": {
          "base_uri": "https://localhost:8080/",
          "height": 68
        }
      },
      "source": [
        "!ls data/livedoor_news/*.jsonl"
      ],
      "execution_count": null,
      "outputs": [
        {
          "output_type": "stream",
          "text": [
            "data/livedoor_news/livedoor_news_test.jsonl\n",
            "data/livedoor_news/livedoor_news_train.jsonl\n",
            "data/livedoor_news/livedoor_news_validation.jsonl\n"
          ],
          "name": "stdout"
        }
      ]
    },
    {
      "cell_type": "markdown",
      "metadata": {
        "id": "7Gyq2A0GnVgb"
      },
      "source": [
        "## Pythonを用いた文書分類システムの開発"
      ]
    },
    {
      "cell_type": "markdown",
      "metadata": {
        "id": "DgNnZxt0TXys"
      },
      "source": [
        "AllenNLPをPythonライブラリとして用いて、文書分類システムを開発します。また、AllenNLPを使う上で理解する必要のあるコンポーネントについて、実際にPythonのコードで動かしながら解説します。"
      ]
    },
    {
      "cell_type": "markdown",
      "metadata": {
        "id": "BA4pmVIRj-jW"
      },
      "source": [
        "### データセットの読み込み"
      ]
    },
    {
      "cell_type": "markdown",
      "metadata": {
        "id": "fmOrvmHoT9JI"
      },
      "source": [
        "データセットを読み込んで、モデルに入力するデータを作成する処理を実装します。"
      ]
    },
    {
      "cell_type": "markdown",
      "metadata": {
        "id": "crBRH0qNj61s"
      },
      "source": [
        "#### トークナイザの作成"
      ]
    },
    {
      "cell_type": "markdown",
      "metadata": {
        "id": "afaFkef4c_g5"
      },
      "source": [
        "AllenNLPを用いてテキストを扱うには、テキストを単語や文字などの細かい単位に分割する必要があります。\n",
        "この処理を行うのが**トークナイザ**です。\n",
        "\n",
        "テキストの単語分割の例：\n",
        "\n",
        "![[テキストの単語分割]](data:image/png;base64,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)\n",
        "\n",
        "日本語の単語分割を行う標準的なツールである[MeCab](https://taku910.github.io/mecab/](https://taku910.github.io/mecab/)を用いたトークナイザを記述します。\n",
        "\n",
        "AllenNLPで新しい単語分割の機能を実装するには`allennlp.data.tokenizers.tokenizer.Tokenizer`の子クラスとして新しいクラスを定義し、`tokenize`メソッドの中に単語分割を行うコードを記述します。\n",
        "また、`@Tokenizer.register(\"mecab\")`とクラスにデコレータを付与することで実装したトークナイザを`mecab`という名前でAllenNLPに登録します。"
      ]
    },
    {
      "cell_type": "code",
      "metadata": {
        "id": "DZW1ys2hHzwU"
      },
      "source": [
        "import MeCab\n",
        "from allennlp.data.tokenizers.token import Token\n",
        "from allennlp.data.tokenizers.tokenizer import Tokenizer\n",
        "\n",
        "@Tokenizer.register(\"mecab\")\n",
        "class MecabTokenizer(Tokenizer):\n",
        "    def __init__(self):\n",
        "        # MeCabのインスタンスを作成\n",
        "        self._mecab = MeCab.Tagger()\n",
        "\n",
        "    def tokenize(self, text):\n",
        "        \"\"\"入力テキストをMeCabを用いて解析する\"\"\"\n",
        "\n",
        "        # 入力テキストをMeCabで処理\n",
        "        node = self._mecab.parseToNode(text)\n",
        "        tokens = []\n",
        "        cur = 0\n",
        "        # 分割結果を順に参照し、tokensに格納\n",
        "        while node:\n",
        "            word = str(node.surface)\n",
        "            space_length = node.rlength - node.length\n",
        "            idx = cur + space_length\n",
        "            cur += len(word) + space_length\n",
        "\n",
        "            # MeCabの返す単語の特徴文字列から品詞を抜き出す\n",
        "            # （例: 名詞,代名詞,一般,*,*,*,私,ワタシ,ワタシ）\n",
        "            pos = node.feature.split(\",\")[0]\n",
        "\n",
        "            # 文頭ノード（BOS）、文末ノード（EOS）は無視する\n",
        "            if node.stat not in (MeCab.MECAB_BOS_NODE, MeCab.MECAB_EOS_NODE):\n",
        "                tokens.append(Token(text=word, idx=idx, pos_=pos))\n",
        "\n",
        "            # 次のノードを取り出す\n",
        "            node = node.next\n",
        "\n",
        "        return tokens"
      ],
      "execution_count": null,
      "outputs": []
    },
    {
      "cell_type": "markdown",
      "metadata": {
        "id": "kPP9l-OmIUen"
      },
      "source": [
        "実装したトークナイザの動作を確認してみましょう。"
      ]
    },
    {
      "cell_type": "code",
      "metadata": {
        "id": "Jpj8taNHC2YW",
        "outputId": "07fc55b7-e91e-4e68-d10b-deae365cead9",
        "colab": {
          "base_uri": "https://localhost:8080/",
          "height": 34
        }
      },
      "source": [
        "tokenizer = MecabTokenizer()\n",
        "tokens = tokenizer.tokenize(\"私は東京が好きだ\")\n",
        "tokens"
      ],
      "execution_count": null,
      "outputs": [
        {
          "output_type": "execute_result",
          "data": {
            "text/plain": [
              "[私, は, 東京, が, 好き, だ]"
            ]
          },
          "metadata": {
            "tags": []
          },
          "execution_count": 7
        }
      ]
    },
    {
      "cell_type": "markdown",
      "metadata": {
        "id": "oKtHlKpoj2jH"
      },
      "source": [
        "#### データセットリーダの作成"
      ]
    },
    {
      "cell_type": "markdown",
      "metadata": {
        "id": "JwvLhDAmdOT2"
      },
      "source": [
        "**データセットリーダ**は、データセットの読み込みを行うためのコンポーネントです。\n",
        "\n",
        "上で作成した行区切りJSONデータを文書分類のデータセット向けのデータセットリーダである`TextClassificationJsonReader`を用いて読み込みます。\n",
        "\n",
        "ここで、`TextClassificationJsonReader `の`tokenizer`引数に、先ほど実装した`MecabTokenizer`を指定します。\n",
        "また、次節で解説する**トークンインデクサ**として、`SingleIdTokenIndexer`を指定します。"
      ]
    },
    {
      "cell_type": "code",
      "metadata": {
        "id": "r4g9hoBMFooj",
        "outputId": "65b7d008-02ef-4ae3-84b2-21dfefdf53ab",
        "colab": {
          "base_uri": "https://localhost:8080/",
          "height": 51
        }
      },
      "source": [
        "from allennlp.data.dataset_readers import TextClassificationJsonReader\n",
        "from allennlp.data.token_indexers import SingleIdTokenIndexer\n",
        "token_indexer = SingleIdTokenIndexer()\n",
        "reader = TextClassificationJsonReader(tokenizer=tokenizer,\n",
        "                                      token_indexers=dict(tokens=token_indexer))\n",
        "train_dataset = reader.read('data/livedoor_news/livedoor_news_train.jsonl')\n",
        "validation_dataset = reader.read(\"data/livedoor_news/livedoor_news_validation.jsonl\")"
      ],
      "execution_count": null,
      "outputs": [
        {
          "output_type": "stream",
          "text": [
            "reading instances: 5902it [00:19, 303.20it/s]\n",
            "reading instances: 737it [00:03, 242.54it/s]\n"
          ],
          "name": "stderr"
        }
      ]
    },
    {
      "cell_type": "markdown",
      "metadata": {
        "id": "IrALGz8utATi"
      },
      "source": [
        "データセットリーダは、`AllennlpDataset`のインスタンスを出力します。"
      ]
    },
    {
      "cell_type": "code",
      "metadata": {
        "id": "w0OP_BN4LNQ4",
        "outputId": "34e1436e-68fc-4dfb-ee4f-4b28ac737197",
        "colab": {
          "base_uri": "https://localhost:8080/",
          "height": 34
        }
      },
      "source": [
        "type(train_dataset)"
      ],
      "execution_count": null,
      "outputs": [
        {
          "output_type": "execute_result",
          "data": {
            "text/plain": [
              "allennlp.data.dataset_readers.dataset_reader.AllennlpDataset"
            ]
          },
          "metadata": {
            "tags": []
          },
          "execution_count": 9
        }
      ]
    },
    {
      "cell_type": "markdown",
      "metadata": {
        "id": "x8YOnoI8tIw-"
      },
      "source": [
        "`AllennlpDataset`クラスは、データセット中に含まれる複数の**インスタンス**（`allennlp.data.instance.Instance`）を含むコンテナクラスです。インデックスを指定することで配列と同様にインスタンスを取り出すことができます。\n"
      ]
    },
    {
      "cell_type": "code",
      "metadata": {
        "id": "Gn-AIg44F-bu",
        "outputId": "6ee7049e-cde3-43a3-f05f-5e0ae26cac85",
        "colab": {
          "base_uri": "https://localhost:8080/",
          "height": 34
        }
      },
      "source": [
        "instance = train_dataset[0]\n",
        "type(instance)"
      ],
      "execution_count": null,
      "outputs": [
        {
          "output_type": "execute_result",
          "data": {
            "text/plain": [
              "allennlp.data.instance.Instance"
            ]
          },
          "metadata": {
            "tags": []
          },
          "execution_count": 10
        }
      ]
    },
    {
      "cell_type": "markdown",
      "metadata": {
        "id": "fx98AlT-tT9_"
      },
      "source": [
        "各インスタンスは1つ以上の**フィールド**（`allennlp.data.fields.field.Field`）を持ちます。\n",
        "\n",
        "`TextClassificationJsonReader`の出力するインスタンスは、文書の単語列を含む`tokens`フィールドとラベルを含む`label`フィールドの2つのフィールドを持ちます。"
      ]
    },
    {
      "cell_type": "code",
      "metadata": {
        "id": "4_LZs2jYHUmK",
        "outputId": "747c1cfd-477c-43b8-df9b-ba7752fd574a",
        "colab": {
          "base_uri": "https://localhost:8080/",
          "height": 51
        }
      },
      "source": [
        "instance.fields"
      ],
      "execution_count": null,
      "outputs": [
        {
          "output_type": "execute_result",
          "data": {
            "text/plain": [
              "{'label': <allennlp.data.fields.label_field.LabelField at 0x7f72091be7e0>,\n",
              " 'tokens': <allennlp.data.fields.text_field.TextField at 0x7f71bec4e7c8>}"
            ]
          },
          "metadata": {
            "tags": []
          },
          "execution_count": 11
        }
      ]
    },
    {
      "cell_type": "code",
      "metadata": {
        "id": "j7ogJMX-Hlx7",
        "outputId": "87f2dd45-ef55-4ed2-d61e-8e103ccdd4a7",
        "colab": {
          "base_uri": "https://localhost:8080/",
          "height": 34
        }
      },
      "source": [
        "instance.fields[\"tokens\"][:20]"
      ],
      "execution_count": null,
      "outputs": [
        {
          "output_type": "execute_result",
          "data": {
            "text/plain": [
              "[【, オトナ, 女子, 映画, 部, 】, あの, 時, こう, し, て, いれ, ば, …, “, 優柔不断, 女子, ”, に, 贈る]"
            ]
          },
          "metadata": {
            "tags": []
          },
          "execution_count": 12
        }
      ]
    },
    {
      "cell_type": "code",
      "metadata": {
        "id": "QDxZ9RPLHm1C",
        "outputId": "18ea9edd-1386-4948-a2d4-9e59d07dc2ca",
        "colab": {
          "base_uri": "https://localhost:8080/",
          "height": 35
        }
      },
      "source": [
        "instance.fields[\"label\"].label"
      ],
      "execution_count": null,
      "outputs": [
        {
          "output_type": "execute_result",
          "data": {
            "application/vnd.google.colaboratory.intrinsic+json": {
              "type": "string"
            },
            "text/plain": [
              "'dokujo-tsushin'"
            ]
          },
          "metadata": {
            "tags": []
          },
          "execution_count": 13
        }
      ]
    },
    {
      "cell_type": "markdown",
      "metadata": {
        "id": "bP19miU0njh4"
      },
      "source": [
        "#### 語彙とトークンインデクサ"
      ]
    },
    {
      "cell_type": "markdown",
      "metadata": {
        "id": "ASe9iUlWJlz_"
      },
      "source": [
        "AllenNLPでは、データセットに含まれる文字列などの値は整数値のIDに変換してからモデルに入力します。\n",
        "AllenNLPでは、**語彙**と**トークンインデクサ**がこの処理を担います。\n",
        "\n",
        "* **語彙**: データセット中に含まれる値に対して固有のIDを結びつける、値からIDへのマッピングを保持した辞書\n",
        "* **トークンインデクサ**： 入力テキストに含まれる各単語にIDを付与するためのコンポーネント"
      ]
    },
    {
      "cell_type": "markdown",
      "metadata": {
        "id": "RJvKeWY-5_jw"
      },
      "source": [
        "##### 語彙の作成"
      ]
    },
    {
      "cell_type": "markdown",
      "metadata": {
        "id": "1Xey49Db583h"
      },
      "source": [
        "語彙の作成は`Vocabulary`クラスの`from_instances`メソッドを用いてデータセットから直接行います。\n",
        "`from_instances`メソッドは、データセットに含まれる値を参照して異なる値を列挙し、それぞれの値に対してIDを結びつけて語彙を生成します。"
      ]
    },
    {
      "cell_type": "code",
      "metadata": {
        "id": "-tUfV8CPHo3T",
        "outputId": "a982e460-d517-4cb6-cec0-5ada8966c725",
        "colab": {
          "base_uri": "https://localhost:8080/",
          "height": 34
        }
      },
      "source": [
        "from allennlp.data.vocabulary import Vocabulary\n",
        "vocab = Vocabulary.from_instances(train_dataset + validation_dataset)"
      ],
      "execution_count": null,
      "outputs": [
        {
          "output_type": "stream",
          "text": [
            "building vocab: 100%|##########| 6639/6639 [00:02<00:00, 2249.17it/s]\n"
          ],
          "name": "stderr"
        }
      ]
    },
    {
      "cell_type": "markdown",
      "metadata": {
        "id": "-CslboMIyzgA"
      },
      "source": [
        "生成された語彙（`vocab`）には、`tokens`フィールドと`label`フィールドに対応した2つの異なる語彙が含まれており、それぞれ`tokens`と`labels`の2つのネームスペースに格納されます。\n",
        "\n",
        "`Vocabulary`クラスの`get_token_index`メソッドを用いて、語彙が正しく生成されているか確認します。 このメソッドは`namespace`引数にネームスペースを指定することで参照する語彙を選択できます。"
      ]
    },
    {
      "cell_type": "code",
      "metadata": {
        "id": "VQJPKSbnIn1u",
        "outputId": "d6c0f7da-5a20-4d0b-8a77-d62ddb34cf2f",
        "colab": {
          "base_uri": "https://localhost:8080/",
          "height": 34
        }
      },
      "source": [
        "vocab.get_token_index(\"東京\", namespace=\"tokens\")"
      ],
      "execution_count": null,
      "outputs": [
        {
          "output_type": "execute_result",
          "data": {
            "text/plain": [
              "249"
            ]
          },
          "metadata": {
            "tags": []
          },
          "execution_count": 15
        }
      ]
    },
    {
      "cell_type": "code",
      "metadata": {
        "id": "HyhPWMwpIzDO",
        "outputId": "839a5443-2807-485d-8879-efb283faa310",
        "colab": {
          "base_uri": "https://localhost:8080/",
          "height": 34
        }
      },
      "source": [
        "vocab.get_token_index(\"dokujo-tsushin\", namespace=\"labels\")"
      ],
      "execution_count": null,
      "outputs": [
        {
          "output_type": "execute_result",
          "data": {
            "text/plain": [
              "4"
            ]
          },
          "metadata": {
            "tags": []
          },
          "execution_count": 16
        }
      ]
    },
    {
      "cell_type": "markdown",
      "metadata": {
        "id": "dJ5GiBYk0FIg"
      },
      "source": [
        "`tokens`フィールドに対応する語彙では、単語「東京」に249、`label`フィールドに対応する語彙では、ラベル名「dokujo-tsushin」に4のIDが割り当てられたことが分かります。\n",
        "\n",
        "次に`AllennlpDataset`の`index_with`メソッドを用いて、データセットを処理する際に作成した語彙を使うように設定します。"
      ]
    },
    {
      "cell_type": "code",
      "metadata": {
        "id": "Xg4pSh6dI0T6"
      },
      "source": [
        "train_dataset.index_with(vocab)\n",
        "validation_dataset.index_with(vocab)"
      ],
      "execution_count": null,
      "outputs": []
    },
    {
      "cell_type": "markdown",
      "metadata": {
        "id": "07CYab1M6Ey3"
      },
      "source": [
        "##### トークンインデクサの作成"
      ]
    },
    {
      "cell_type": "markdown",
      "metadata": {
        "id": "P_xrgCQl03R3"
      },
      "source": [
        "トークンインデクサは、入力テキストに含まれる単語列にIDを付与します。\n",
        "\n",
        "データセットリーダを作成する際に、下記のようにトークンインデクサを作成しました。\n",
        "\n",
        "```python\n",
        "token_indexer = SingleIdTokenIndexer()\n",
        "```\n",
        "\n",
        "`SingleIdTokenIndexer`は、語彙を参照して、単語列に含まれる各単語を該当するIDに変換するトークンインデクサです。\n",
        "このクラスの`tokens_to_indices`メソッドを用いて、単語列をID列に変換します。\n",
        "引数として、単語列（`tokens`）と語彙（`vocab`）を指定します。"
      ]
    },
    {
      "cell_type": "code",
      "metadata": {
        "id": "zjTDWUpS0pm7",
        "outputId": "dbc8caf7-3e15-4c87-dde2-079642350435",
        "colab": {
          "base_uri": "https://localhost:8080/",
          "height": 34
        }
      },
      "source": [
        "token_ids = token_indexer.tokens_to_indices(tokens, vocab)[\"tokens\"]\n",
        "token_ids"
      ],
      "execution_count": null,
      "outputs": [
        {
          "output_type": "execute_result",
          "data": {
            "text/plain": [
              "[140, 8, 249, 7, 224, 28]"
            ]
          },
          "metadata": {
            "tags": []
          },
          "execution_count": 18
        }
      ]
    },
    {
      "cell_type": "markdown",
      "metadata": {
        "id": "RT_2tx8l3apC"
      },
      "source": [
        "作成した単語のID列（`token_ids`）を`Vocabulary`の`get_token_from_index`メソッドで変換前の単語に戻して確認してみます。"
      ]
    },
    {
      "cell_type": "code",
      "metadata": {
        "id": "aJ3fBo6G2_Yx",
        "outputId": "0fe05a47-b474-45b1-f446-1f73f39fc044",
        "colab": {
          "base_uri": "https://localhost:8080/",
          "height": 34
        }
      },
      "source": [
        "[vocab.get_token_from_index(token_id) for token_id in token_ids]"
      ],
      "execution_count": null,
      "outputs": [
        {
          "output_type": "execute_result",
          "data": {
            "text/plain": [
              "['私', 'は', '東京', 'が', '好き', 'だ']"
            ]
          },
          "metadata": {
            "tags": []
          },
          "execution_count": 19
        }
      ]
    },
    {
      "cell_type": "markdown",
      "metadata": {
        "id": "_YC9O16Bnmia"
      },
      "source": [
        "#### データローダの作成"
      ]
    },
    {
      "cell_type": "markdown",
      "metadata": {
        "id": "UWlWKQ46J1by"
      },
      "source": [
        "モデルにデータセットを入力する際には、データセットに含まれるインスタンスを**ミニバッチ**と呼ばれる単位にまとめてから入力します。\n",
        "一般的にミニバッチには一般に10〜100個程度のインスタンスが含まれます。\n",
        "\n",
        "**データローダ**は、データセットに含まれるインスタンスを指定したサイズにまとめてミニバッチを出力するコンポーネントです。\n",
        "\n",
        "読み込んだデータセット（`train_dataset`、`validation_dataset`）を使ってデータローダを作成します。\n",
        "1つのミニバッチに含まれるインスタンス数（`batch_size`）には32を指定します。\n",
        "\n",
        "訓練用データセットのデータローダのみ`shuffle=True`とすることでデータセット中のインスタンスをランダムに並び替えてからミニバッチを作成するように設定します。"
      ]
    },
    {
      "cell_type": "code",
      "metadata": {
        "id": "RcCkRmFsI4EI"
      },
      "source": [
        "from allennlp.data import PyTorchDataLoader\n",
        "train_loader = PyTorchDataLoader(train_dataset, batch_size=32, shuffle=True)\n",
        "validation_loader = PyTorchDataLoader(validation_dataset, batch_size=32, shuffle=False)"
      ],
      "execution_count": null,
      "outputs": []
    },
    {
      "cell_type": "markdown",
      "metadata": {
        "id": "pFblGOZy6fmb"
      },
      "source": [
        "データローダからミニバッチを取り出してみましょう。\n",
        "AllenNLPは、ミニバッチは`dict`型のオブジェクトです。\n"
      ]
    },
    {
      "cell_type": "code",
      "metadata": {
        "id": "rKUXSesZJI-L",
        "outputId": "1c77bb85-b43e-4f6a-d638-fac9b2c532ea",
        "colab": {
          "base_uri": "https://localhost:8080/",
          "height": 34
        }
      },
      "source": [
        "batch = next(iter(validation_loader))\n",
        "type(batch)"
      ],
      "execution_count": null,
      "outputs": [
        {
          "output_type": "execute_result",
          "data": {
            "text/plain": [
              "dict"
            ]
          },
          "metadata": {
            "tags": []
          },
          "execution_count": 21
        }
      ]
    },
    {
      "cell_type": "markdown",
      "metadata": {
        "id": "enkehKED7E5L"
      },
      "source": [
        "ミニバッチには`tokens`および`label`の各フィールドに対応するID化されたデータが格納されています。"
      ]
    },
    {
      "cell_type": "code",
      "metadata": {
        "id": "Z6D_KwBOJOLq",
        "outputId": "d8c87595-223b-42c8-aa68-97b5d704dad1",
        "colab": {
          "base_uri": "https://localhost:8080/",
          "height": 34
        }
      },
      "source": [
        "batch.keys()"
      ],
      "execution_count": null,
      "outputs": [
        {
          "output_type": "execute_result",
          "data": {
            "text/plain": [
              "dict_keys(['tokens', 'label'])"
            ]
          },
          "metadata": {
            "tags": []
          },
          "execution_count": 22
        }
      ]
    },
    {
      "cell_type": "markdown",
      "metadata": {
        "id": "GE9J4e0s7o-6"
      },
      "source": [
        "`batch[\"tokens\"]`には、行がインスタンスで列が単語のIDに対応する行列が値として含まれています。"
      ]
    },
    {
      "cell_type": "code",
      "metadata": {
        "id": "4vgU_xZ8JPSs",
        "outputId": "85542f30-4f49-41d2-c24c-cae5d836ff95",
        "colab": {
          "base_uri": "https://localhost:8080/",
          "height": 136
        }
      },
      "source": [
        "batch[\"tokens\"]"
      ],
      "execution_count": null,
      "outputs": [
        {
          "output_type": "execute_result",
          "data": {
            "text/plain": [
              "{'tokens': {'tokens': tensor([[ 116,    8, 5788,  ...,    0,    0,    0],\n",
              "          [ 232,  331,  374,  ...,    0,    0,    0],\n",
              "          [ 460, 1458,    3,  ...,    0,    0,    0],\n",
              "          ...,\n",
              "          [ 327,    7,  170,  ...,    0,    0,    0],\n",
              "          [2082, 1690,  668,  ...,    0,    0,    0],\n",
              "          [1476,   60,    3,  ...,    0,    0,    0]])}}"
            ]
          },
          "metadata": {
            "tags": []
          },
          "execution_count": 23
        }
      ]
    },
    {
      "cell_type": "markdown",
      "metadata": {
        "id": "v0ideMeN736u"
      },
      "source": [
        "`batch[\"label\"]`はラベルのID列を含んでいます。"
      ]
    },
    {
      "cell_type": "code",
      "metadata": {
        "id": "QDNKwV3sJQeo",
        "outputId": "65f609a8-ac96-4e3f-a718-af57bc16cf91",
        "colab": {
          "base_uri": "https://localhost:8080/",
          "height": 51
        }
      },
      "source": [
        "batch[\"label\"]"
      ],
      "execution_count": null,
      "outputs": [
        {
          "output_type": "execute_result",
          "data": {
            "text/plain": [
              "tensor([3, 4, 1, 4, 0, 8, 4, 3, 5, 3, 5, 3, 8, 2, 7, 3, 6, 5, 8, 6, 0, 8, 3, 5,\n",
              "        5, 2, 4, 4, 0, 5, 2, 6])"
            ]
          },
          "metadata": {
            "tags": []
          },
          "execution_count": 24
        }
      ]
    },
    {
      "cell_type": "markdown",
      "metadata": {
        "id": "dtXVv-XY8GCh"
      },
      "source": [
        "`Vocabulary`クラスの`get_token_from_index`メソッドを使って、`batch`に含まれるIDから元の値を復元してみます。\n"
      ]
    },
    {
      "cell_type": "code",
      "metadata": {
        "id": "5NhiVkFYJZbG",
        "outputId": "fe1c9978-cb1c-499a-a545-836b79becd76",
        "colab": {
          "base_uri": "https://localhost:8080/",
          "height": 34
        }
      },
      "source": [
        "[vocab.get_token_from_index(int(i), namespace=\"tokens\") for i in batch[\"tokens\"][\"tokens\"][\"tokens\"][0]][:10]"
      ],
      "execution_count": null,
      "outputs": [
        {
          "output_type": "execute_result",
          "data": {
            "text/plain": [
              "['これ', 'は', '気づか', 'なかっ', 'た', '！', '古い', 'ノート', 'PC', 'が']"
            ]
          },
          "metadata": {
            "tags": []
          },
          "execution_count": 25
        }
      ]
    },
    {
      "cell_type": "code",
      "metadata": {
        "id": "-mfdqwK-JeEd",
        "outputId": "1fa064fc-f2f2-4bb9-e8cf-d06d88addd73",
        "colab": {
          "base_uri": "https://localhost:8080/",
          "height": 35
        }
      },
      "source": [
        "vocab.get_token_from_index(int(batch[\"label\"][0]), namespace=\"labels\")"
      ],
      "execution_count": null,
      "outputs": [
        {
          "output_type": "execute_result",
          "data": {
            "application/vnd.google.colaboratory.intrinsic+json": {
              "type": "string"
            },
            "text/plain": [
              "'it-life-hack'"
            ]
          },
          "metadata": {
            "tags": []
          },
          "execution_count": 26
        }
      ]
    },
    {
      "cell_type": "markdown",
      "metadata": {
        "id": "MCXZxPs4Lamt"
      },
      "source": [
        "### モデルの作成"
      ]
    },
    {
      "cell_type": "markdown",
      "metadata": {
        "id": "NFOFvxIkLmQf"
      },
      "source": [
        "文書分類のモデルを作成します。"
      ]
    },
    {
      "cell_type": "markdown",
      "metadata": {
        "id": "JSiU9_Z3QvHU"
      },
      "source": [
        "#### bag-of-embeddingsモデル"
      ]
    },
    {
      "cell_type": "markdown",
      "metadata": {
        "id": "htNDn5G39REc"
      },
      "source": [
        "文書分類において単純かつよく使われているモデルの1つに**bag-of-embeddingsモデル**があります。\n",
        "下記に「新しい冷蔵庫がほしい」という文にこのモデルを適用した例を示します。\n",
        "\n",
        "![bag-of-embeddings.png](data:image/png;base64,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)\n",
        "\n",
        "このモデルは以下の3つのステップで構成されます。\n",
        "\n",
        "**1. 単語エンベディングの作成**\n",
        "\n",
        "語彙中に含まれる全ての単語に対して1つの**単語エンベディング**（単語に対応するベクトル）を割り当てます。\n",
        "\n",
        "**2. テキストの特徴ベクトルの作成**\n",
        "\n",
        "分類対象の文書の特徴を含んだベクトル（特徴ベクトル）を、文書に含まれるすべての単語の単語エンベディングをベクトルの各次元単位で加算した値として計算します。\n",
        "この例では、テキストはニュース記事に対応します。\n",
        "\n",
        "**3. テキストの分類**\n",
        "\n",
        "テキストの特徴ベクトルを全結合層に入力し、**ソフトマックス関数**を適用してテキストの分類を行います。\n",
        "損失関数には**クロスエントロピー誤差関数**を用います。"
      ]
    },
    {
      "cell_type": "markdown",
      "metadata": {
        "id": "gkwqw5ucnrXo"
      },
      "source": [
        "#### 乱数シードの指定"
      ]
    },
    {
      "cell_type": "markdown",
      "metadata": {
        "id": "vzlYcGX0GuZ_"
      },
      "source": [
        "ニューラルネットワークのモデルに含まれるパラメータは、乱数を用いて初期化されます。\n",
        "乱数にシードを指定しておくと、乱数生成器から同じ乱数の系列が生成されるため、何度実行しても同じ値でパラメータの初期化が行われ、同じ訓練結果が得られます。\n",
        "\n",
        "ここではPythonの`random`パッケージとPyTorchの双方にシードを設定します。"
      ]
    },
    {
      "cell_type": "code",
      "metadata": {
        "id": "vAjknpEbGoZp",
        "outputId": "66e7d8f6-9227-4fa5-a02d-4f3b0044f1ba",
        "colab": {
          "base_uri": "https://localhost:8080/",
          "height": 34
        }
      },
      "source": [
        "import torch\n",
        "\n",
        "random.seed(2)\n",
        "torch.manual_seed(2)"
      ],
      "execution_count": null,
      "outputs": [
        {
          "output_type": "execute_result",
          "data": {
            "text/plain": [
              "<torch._C.Generator at 0x7f7209aab6d8>"
            ]
          },
          "metadata": {
            "tags": []
          },
          "execution_count": 27
        }
      ]
    },
    {
      "cell_type": "markdown",
      "metadata": {
        "id": "-eDSdNfNnvvH"
      },
      "source": [
        "#### 単語エンベディングの作成"
      ]
    },
    {
      "cell_type": "markdown",
      "metadata": {
        "id": "mEaG47X9KP57"
      },
      "source": [
        "語彙に含まれる全ての単語に対して、100次元の単語エンベディングを作成します。\n",
        "\n",
        "単語エンベディングの作成は`Embedding`クラスを用いて行います。\n",
        "\n",
        "このクラスのコンストラクタは、引数として単語エンベディングの数（`num_embeddings`）と単語エンベディングの次元数（`embedding_dim`）を取ります。\n",
        "単語エンベディングの数は語彙に含まれる単語数と同じであるため、語彙に含まれる単語数を`Vocabulary`クラスの`get_vocab_size`メソッドを用いて取得します。\n"
      ]
    },
    {
      "cell_type": "code",
      "metadata": {
        "id": "XGeDYBgGJf9h"
      },
      "source": [
        "from allennlp.modules.token_embedders import Embedding\n",
        "embedding = Embedding(num_embeddings=vocab.get_vocab_size(), embedding_dim=100)"
      ],
      "execution_count": null,
      "outputs": []
    },
    {
      "cell_type": "markdown",
      "metadata": {
        "id": "ZzYTE0TrA-j4"
      },
      "source": [
        "`Embedding`クラスは、単語や文字などのトークンを該当するエンベディングに変換して出力する**トークンエンベダ**の実装の1つになっていて`allennlp.modules.token_embedders`パッケージの中で定義されています。\n",
        "\n",
        "AllenNLPではIDをエンベディングに変換する処理はトークンエンベダとして抽象化されていて、`Embedding`クラスは各IDに対して該当する単語エンベディングを出力する最も単純なトークンエンベダの実装になっています。\n",
        "\n",
        "作成される単語エンベディングは$\\mbox{語彙に含まれる単語数 (72,537)}\\times\\mbox{単語エンベディングの次元数 (100)}$の行列です。\n",
        "この行列の行番号は単語のIDに対応していて、各単語のエンベディングはこの行列のID行目に格納されます。"
      ]
    },
    {
      "cell_type": "code",
      "metadata": {
        "id": "JOWil_O_LYPY",
        "outputId": "ee4d002f-041b-4680-92db-2ee9fe8d743d",
        "colab": {
          "base_uri": "https://localhost:8080/",
          "height": 34
        }
      },
      "source": [
        "embedding.weight.size()"
      ],
      "execution_count": null,
      "outputs": [
        {
          "output_type": "execute_result",
          "data": {
            "text/plain": [
              "torch.Size([72537, 100])"
            ]
          },
          "metadata": {
            "tags": []
          },
          "execution_count": 29
        }
      ]
    },
    {
      "cell_type": "markdown",
      "metadata": {
        "id": "i-Z0YN8OBPYu"
      },
      "source": [
        "`Embedding`のインスタンスは、単語のIDを示すテンソルを渡すと該当する単語エンベディングを返します。"
      ]
    },
    {
      "cell_type": "code",
      "metadata": {
        "id": "VBYQoTqgLfAw",
        "outputId": "49e39e62-de66-41d9-dcdf-33ab965bea22",
        "colab": {
          "base_uri": "https://localhost:8080/",
          "height": 374
        }
      },
      "source": [
        "embedding(torch.tensor(1))"
      ],
      "execution_count": null,
      "outputs": [
        {
          "output_type": "execute_result",
          "data": {
            "text/plain": [
              "tensor([-3.3212e-03, -1.4645e-03, -8.7923e-03,  3.8381e-03,  5.1560e-03,\n",
              "         2.8805e-03,  5.7754e-03,  6.8276e-03, -8.9720e-03,  1.3729e-03,\n",
              "         8.4307e-03, -6.5867e-03, -4.0467e-03, -4.7862e-04, -5.6539e-03,\n",
              "        -1.7130e-03, -1.3430e-03,  8.0977e-03, -5.7148e-04,  4.9285e-03,\n",
              "         6.6554e-03,  4.0492e-03, -7.9038e-03,  6.8119e-03,  5.9935e-03,\n",
              "        -6.5153e-03, -3.2407e-03,  6.1860e-03, -8.8351e-03, -7.9658e-03,\n",
              "        -6.1599e-03,  2.8320e-03, -3.7115e-03, -8.1056e-03,  3.5230e-03,\n",
              "         4.5972e-03,  3.4042e-03, -7.7869e-03,  8.8497e-03, -6.8574e-04,\n",
              "        -8.6503e-03, -1.3682e-03,  5.9363e-03,  4.1856e-03, -9.7132e-05,\n",
              "         6.4071e-03, -8.2922e-03,  6.3061e-03,  9.0218e-03, -5.5265e-03,\n",
              "         1.9495e-03, -1.4656e-03, -7.6725e-03, -7.9678e-05, -3.0458e-03,\n",
              "        -7.7630e-03, -6.6226e-03,  1.9831e-04,  8.4257e-03,  3.2540e-03,\n",
              "        -6.0470e-03,  6.2688e-03,  7.4603e-04, -8.8809e-03,  4.3112e-04,\n",
              "         5.8343e-03, -5.3441e-03, -4.1818e-04, -4.5281e-03, -7.1664e-03,\n",
              "        -5.1643e-03,  9.1267e-04,  5.8750e-03, -1.6889e-03, -8.1735e-03,\n",
              "        -7.7799e-05, -7.9046e-03,  5.3388e-04,  6.7385e-03,  3.8789e-03,\n",
              "        -5.5589e-03, -2.0058e-03,  3.6393e-03,  2.4656e-03, -8.5371e-03,\n",
              "        -5.2988e-03, -3.2143e-03,  3.3400e-03,  8.1207e-03,  4.0500e-03,\n",
              "         3.4333e-03, -7.7122e-03,  5.8809e-03,  3.2550e-03, -2.9225e-03,\n",
              "        -4.3608e-03,  2.5838e-03, -4.9264e-03,  3.6894e-03,  6.9507e-03],\n",
              "       grad_fn=<EmbeddingBackward>)"
            ]
          },
          "metadata": {
            "tags": []
          },
          "execution_count": 30
        }
      ]
    },
    {
      "cell_type": "markdown",
      "metadata": {
        "id": "yF_poqVICDgX"
      },
      "source": [
        "`BasicTextFieldEmbedder`は、トークンインデクサとトークンエンベダをつなげて用いるための**テキストフィールドエンベダ**のクラスです。\n",
        "このクラスは、トークンインデクサが出力する単語ID列をトークンエンベダを用いてエンベディングの列に変換して出力します。\n",
        "\n",
        "`BasicTextFieldEmbedder`のインスタンスは、トークンインデクサの名前（`tokens`）をキー、トークンエンベダを値とした`dict`を引数として作成します。\n"
      ]
    },
    {
      "cell_type": "code",
      "metadata": {
        "id": "efuU_dNZ-TXm"
      },
      "source": [
        "from allennlp.modules.text_field_embedders import BasicTextFieldEmbedder\n",
        "text_embedder = BasicTextFieldEmbedder({\"tokens\": embedding})"
      ],
      "execution_count": null,
      "outputs": []
    },
    {
      "cell_type": "markdown",
      "metadata": {
        "id": "wVmD4TW8CTg8"
      },
      "source": [
        "作成したインスタンスにミニバッチに含まれる単語のID列を入力してみましょう。"
      ]
    },
    {
      "cell_type": "code",
      "metadata": {
        "id": "_NhkLlll-dca",
        "outputId": "79199e9b-3e81-479f-95a8-bd396c3218e1",
        "colab": {
          "base_uri": "https://localhost:8080/",
          "height": 34
        }
      },
      "source": [
        "token_vectors = text_embedder(batch[\"tokens\"])\n",
        "token_vectors.size()"
      ],
      "execution_count": null,
      "outputs": [
        {
          "output_type": "execute_result",
          "data": {
            "text/plain": [
              "torch.Size([32, 6006, 100])"
            ]
          },
          "metadata": {
            "tags": []
          },
          "execution_count": 32
        }
      ]
    },
    {
      "cell_type": "markdown",
      "metadata": {
        "id": "_Fv5Q8hECfgA"
      },
      "source": [
        "ミニバッチに含まれるインスタンスごとに、含まれる単語のIDが単語エンベディングに変換され、$\\mbox{ミニバッチのサイズ（32）}\\times\\mbox{単語列の長さ（6,006）}\\times\\mbox{単語エンベディングの次元（100）}$で構成されるテンソルが出力されました。\n"
      ]
    },
    {
      "cell_type": "markdown",
      "metadata": {
        "id": "vPT0Nhmdny16"
      },
      "source": [
        "#### テキストの特徴ベクトルの作成"
      ]
    },
    {
      "cell_type": "markdown",
      "metadata": {
        "id": "RKBBOWnkLL6C"
      },
      "source": [
        "次に単語エンベディングの列から、テキストの特徴ベクトルを計算する処理を実装します。\n",
        "\n",
        "`BagOfEmbeddingsEncoder`はbag-of-embeddingsモデルを実装したクラスで、エンベディングの列を受け取ってそれらを全て要素単位で加算することで1つのベクトルを出力します。\n",
        "このクラスは、単語エンベディングの次元数（`embedding_dim`）を受け取ります。"
      ]
    },
    {
      "cell_type": "code",
      "metadata": {
        "id": "dQpCkdjo-hwd"
      },
      "source": [
        "from allennlp.modules.seq2vec_encoders import BagOfEmbeddingsEncoder\n",
        "encoder = BagOfEmbeddingsEncoder(embedding_dim=100)"
      ],
      "execution_count": null,
      "outputs": []
    },
    {
      "cell_type": "markdown",
      "metadata": {
        "id": "E069y8G3EbnV"
      },
      "source": [
        "`BagOfEmbeddingsEncoder`はエンベディングの列（sequence）を受け取って、それをベクトル（vector）に変換する**seq2vecエンコーダ**の実装の1つになっていて、`allennlp.modules.seq2vec_encoders`パッケージの中に定義されています。\n",
        "seq2vecエンコーダには`BagOfEmbeddingsEncoder`の他にも畳み込みニューラルネットワーク等のベクトルの列を1つのベクトルに変換する実装が含まれています。\n",
        "\n",
        "前節で計算した単語エンベディング列（`token_vectors`）を入力してみましょう。"
      ]
    },
    {
      "cell_type": "code",
      "metadata": {
        "id": "1O0gUrkE_hWx",
        "outputId": "d085196e-8529-4aeb-ea0c-41be7df2a9ce",
        "colab": {
          "base_uri": "https://localhost:8080/",
          "height": 34
        }
      },
      "source": [
        "text_vector = encoder(token_vectors)\n",
        "text_vector.size()"
      ],
      "execution_count": null,
      "outputs": [
        {
          "output_type": "execute_result",
          "data": {
            "text/plain": [
              "torch.Size([32, 100])"
            ]
          },
          "metadata": {
            "tags": []
          },
          "execution_count": 34
        }
      ]
    },
    {
      "cell_type": "markdown",
      "metadata": {
        "id": "CIeO3IsZEdNZ"
      },
      "source": [
        "単語エンベディング列が加算されて、$\\mbox{ミニバッチのサイズ（32）}\\times\\mbox{単語エンベディングの次元（100）}$のテンソルが出力されました。"
      ]
    },
    {
      "cell_type": "markdown",
      "metadata": {
        "id": "nzcf41Hhn23x"
      },
      "source": [
        "#### 文書分類器の作成"
      ]
    },
    {
      "cell_type": "markdown",
      "metadata": {
        "id": "JJuNnBC_MC_D"
      },
      "source": [
        "文書の分類を行うモデルの実装は`BasicClassifier`を用いて行います。\n",
        "`BasicClassifier`は、まず指定したテキストフィールドエンベダとsec2vecエンコーダを用いて入力テキストのベクトルを計算します。\n",
        "そして全結合層にこのベクトルを入力して、最後にソフトマックス関数を適用することで、分類を行います。\n",
        "\n",
        "`BasicClassifier`は、引数として語彙（`vocab`）、テキストフィールドエンベダ（`text_field_embedder`）、seq2vecエンコーダ（`seq2vec_encoder`）を取ります。"
      ]
    },
    {
      "cell_type": "code",
      "metadata": {
        "id": "0oIHc_H7_kch"
      },
      "source": [
        "from allennlp.models import BasicClassifier\n",
        "model = BasicClassifier(vocab=vocab, text_field_embedder=text_embedder,\n",
        "                        seq2vec_encoder=encoder)"
      ],
      "execution_count": null,
      "outputs": []
    },
    {
      "cell_type": "markdown",
      "metadata": {
        "id": "gATFs-PsTdYA"
      },
      "source": [
        "モデルの`cuda`メソッドを呼ぶことで、GPU上にモデルをコピーします。"
      ]
    },
    {
      "cell_type": "code",
      "metadata": {
        "id": "WSzYlY9IRCv6"
      },
      "source": [
        "model = model.cuda()"
      ],
      "execution_count": null,
      "outputs": []
    },
    {
      "cell_type": "markdown",
      "metadata": {
        "id": "1jECqUoPEGCE"
      },
      "source": [
        "データローダは既に上で作成しましたが、データローダが乱数を使用する影響で、このモデルが後述する設定ファイルによるモデルと同様の訓練結果になるようにするためには、モデルの定義の後にデータローダの作成を行う必要があります。\n",
        "そこで、データローダを再度作成しなおします。\n",
        "\n",
        "設定ファイルと同様の訓練結果にする必要がない場合は、こちらを実行する必要はありません。"
      ]
    },
    {
      "cell_type": "code",
      "metadata": {
        "id": "y60sGBCg4mVo"
      },
      "source": [
        "train_loader = PyTorchDataLoader(train_dataset, batch_size=32, shuffle=True)\n",
        "validation_loader = PyTorchDataLoader(validation_dataset, batch_size=32, shuffle=False)"
      ],
      "execution_count": null,
      "outputs": []
    },
    {
      "cell_type": "markdown",
      "metadata": {
        "id": "Kbda5L15ULwL"
      },
      "source": [
        "### モデルの訓練"
      ]
    },
    {
      "cell_type": "markdown",
      "metadata": {
        "id": "i8RNpzmBL7R1"
      },
      "source": [
        "作成した文書分類モデルを訓練します。"
      ]
    },
    {
      "cell_type": "markdown",
      "metadata": {
        "id": "KwTv4XlUoEGe"
      },
      "source": [
        "#### オプティマイザの作成"
      ]
    },
    {
      "cell_type": "markdown",
      "metadata": {
        "id": "76IOy8FsOjkE"
      },
      "source": [
        "**オプティマイザ**を作成します。\n",
        "オプティマイザは、訓練時に損失を最小化するようにモデルに含まれるパラメータを更新するコンポーネントです。\n",
        "ここでは標準的に使われているオプティマイザである**Adam**を実装した**Adamオプティマイザ**（`AdamOptimizer`）を用います。\n",
        "\n",
        "モデルの`named_parameters`メソッドを呼ぶことで、モデルに含まれる全てのパラメータのリストを名前付きで取得できます。\n",
        "このメソッドを用いて取得したパラメータのリストをオプティマイザに渡します。"
      ]
    },
    {
      "cell_type": "code",
      "metadata": {
        "id": "MHFGfRJ3QIUd"
      },
      "source": [
        "from allennlp.training.optimizers import AdamOptimizer\n",
        "optimizer = AdamOptimizer(model.named_parameters())"
      ],
      "execution_count": null,
      "outputs": []
    },
    {
      "cell_type": "markdown",
      "metadata": {
        "id": "1xO86q-0oGEV"
      },
      "source": [
        "#### トレイナの作成"
      ]
    },
    {
      "cell_type": "markdown",
      "metadata": {
        "id": "MF7rOTazQWHb"
      },
      "source": [
        "モデルの訓練を実行するクラスである**最急降下法トレイナ**（`GradientDescentTrainer`）をモデル（`model`）、オプティマイザ（`optimizer`）、データローダ（`data_loader`）、訓練データセット（`train_dataset`）、検証データセット（`validation_dataset`）を渡して作成します。\n",
        "\n",
        "`num_epochs=10`と指定することで訓練用のデータセットを最大で10回イテレーションして学習するように指定します。\n",
        "ここで**エポック**（**epoch**）は訓練データセットを1回イテレーションすることをあらわします。\n",
        "また`patience=3`と指定することで、各エポック終了時に検証用のデータセットで損失を計算し、損失が連続して3エポック下がっていなかった場合に訓練を終了します。\n"
      ]
    },
    {
      "cell_type": "code",
      "metadata": {
        "id": "Q-Gf0rTMQIxU"
      },
      "source": [
        "from allennlp.training import GradientDescentTrainer\n",
        "trainer = GradientDescentTrainer(\n",
        "    model=model,\n",
        "    optimizer=optimizer,\n",
        "    data_loader=train_loader,\n",
        "    validation_data_loader=validation_loader,\n",
        "    num_epochs=10,\n",
        "    patience=3,\n",
        "    cuda_device=0\n",
        ")"
      ],
      "execution_count": null,
      "outputs": []
    },
    {
      "cell_type": "markdown",
      "metadata": {
        "id": "CUcytf3NoIYm"
      },
      "source": [
        "#### 訓練の実行"
      ]
    },
    {
      "cell_type": "markdown",
      "metadata": {
        "id": "FhbQtL5ERhDY"
      },
      "source": [
        "トレイナの`train`メソッドを呼んで訓練を実行します。"
      ]
    },
    {
      "cell_type": "code",
      "metadata": {
        "id": "9s-YbXEZQvV1",
        "outputId": "845c1ebb-60fd-418b-a453-ec9d48db4e0a",
        "colab": {
          "base_uri": "https://localhost:8080/",
          "height": 255
        }
      },
      "source": [
        "metrics = trainer.train()"
      ],
      "execution_count": null,
      "outputs": [
        {
          "output_type": "stream",
          "text": [
            "accuracy: 0.8929, batch_loss: 0.5190, loss: 0.3974 ||: 100%|##########| 185/185 [00:04<00:00, 39.00it/s]\n",
            "accuracy: 0.9430, batch_loss: 0.1202, loss: 0.2169 ||: 100%|##########| 24/24 [00:00<00:00, 48.67it/s]\n",
            "accuracy: 0.9963, batch_loss: 0.0142, loss: 0.0216 ||: 100%|##########| 185/185 [00:01<00:00, 169.32it/s]\n",
            "accuracy: 0.9525, batch_loss: 0.0066, loss: 0.2149 ||: 100%|##########| 24/24 [00:00<00:00, 268.01it/s]\n",
            "accuracy: 0.9981, batch_loss: 0.0036, loss: 0.0145 ||: 100%|##########| 185/185 [00:01<00:00, 175.34it/s]\n",
            "accuracy: 0.9579, batch_loss: 0.0039, loss: 0.1724 ||: 100%|##########| 24/24 [00:00<00:00, 303.80it/s]\n",
            "accuracy: 0.9995, batch_loss: 0.0021, loss: 0.0047 ||: 100%|##########| 185/185 [00:01<00:00, 179.05it/s]\n",
            "accuracy: 0.9593, batch_loss: 0.0029, loss: 0.1703 ||: 100%|##########| 24/24 [00:00<00:00, 303.84it/s]\n",
            "accuracy: 0.9995, batch_loss: 0.0035, loss: 0.0036 ||: 100%|##########| 185/185 [00:01<00:00, 179.14it/s]\n",
            "accuracy: 0.9579, batch_loss: 0.0018, loss: 0.1713 ||: 100%|##########| 24/24 [00:00<00:00, 293.25it/s]\n",
            "accuracy: 0.9997, batch_loss: 0.0001, loss: 0.0029 ||: 100%|##########| 185/185 [00:01<00:00, 176.93it/s]\n",
            "accuracy: 0.9566, batch_loss: 0.0016, loss: 0.1746 ||: 100%|##########| 24/24 [00:00<00:00, 292.60it/s]\n",
            "accuracy: 0.9997, batch_loss: 0.0030, loss: 0.0024 ||: 100%|##########| 185/185 [00:01<00:00, 175.42it/s]\n",
            "accuracy: 0.9607, batch_loss: 0.0015, loss: 0.1734 ||: 100%|##########| 24/24 [00:00<00:00, 314.84it/s]\n"
          ],
          "name": "stderr"
        }
      ]
    },
    {
      "cell_type": "markdown",
      "metadata": {
        "id": "sum8BZZJoKgr"
      },
      "source": [
        "#### 指標の確認"
      ]
    },
    {
      "cell_type": "markdown",
      "metadata": {
        "id": "LiGcPKRZRiy3"
      },
      "source": [
        "トレイナが返した指標を表示します。"
      ]
    },
    {
      "cell_type": "code",
      "metadata": {
        "id": "DwoNWgiXQ2Xf",
        "outputId": "2e9e1a80-2ed6-4041-d9ce-171fceea72e5",
        "colab": {
          "base_uri": "https://localhost:8080/",
          "height": 272
        }
      },
      "source": [
        "import pprint\n",
        "pprint.pprint(metrics)"
      ],
      "execution_count": null,
      "outputs": [
        {
          "output_type": "stream",
          "text": [
            "{'best_epoch': 3,\n",
            " 'best_validation_accuracy': 0.9592944369063772,\n",
            " 'best_validation_loss': 0.17032085664686747,\n",
            " 'epoch': 5,\n",
            " 'peak_gpu_0_memory_MB': 1789,\n",
            " 'peak_worker_0_memory_MB': 6068.672,\n",
            " 'training_accuracy': 0.9996611318197222,\n",
            " 'training_duration': '0:00:11.524001',\n",
            " 'training_epochs': 5,\n",
            " 'training_gpu_0_memory_MB': 1789,\n",
            " 'training_loss': 0.0028502423625370184,\n",
            " 'training_start_epoch': 0,\n",
            " 'training_worker_0_memory_MB': 6068.672,\n",
            " 'validation_accuracy': 0.9565807327001357,\n",
            " 'validation_loss': 0.17460694712159844}\n"
          ],
          "name": "stdout"
        }
      ]
    },
    {
      "cell_type": "markdown",
      "metadata": {
        "id": "SziGG7F0SYBt"
      },
      "source": [
        "出力された指標を見ると、最も検証データセット上での性能が良かった4エポック（`\"best_epoch\": 3`）終了時のモデルが最終的なモデルとして選択されたことが分かります。\n",
        "また、検証データセットでの最良の正解率（`best_validation_accuracy`）は約95.9%だったことがわかります。\n",
        "なお、正解率は下記で定義されます。\n",
        "$$\\mbox{正解率} = \\frac{\\mbox{正解したインスタンス数}}{\\mbox{全てのインスタンス数}}$$"
      ]
    },
    {
      "cell_type": "markdown",
      "metadata": {
        "id": "OBWqaGaboRb8"
      },
      "source": [
        "## 設定ファイルを用いた文書分類システムの開発"
      ]
    },
    {
      "cell_type": "markdown",
      "metadata": {
        "id": "zotEN67QUt8Y"
      },
      "source": [
        "上述したPythonによるモデルと同じモデルを[Jsonnet](https://jsonnet.org/)形式の設定ファイルで記述する方法を解説します。"
      ]
    },
    {
      "cell_type": "markdown",
      "metadata": {
        "id": "eu9_NtUGoVhf"
      },
      "source": [
        "### 設定ファイルの作成"
      ]
    },
    {
      "cell_type": "markdown",
      "metadata": {
        "id": "9OOmPZuIVQ4T"
      },
      "source": [
        "設定ファイルには、下記の内容を含める必要があります。\n",
        "\n",
        "* 入力するデータセットのパス\n",
        "* データセットリーダの設定\n",
        "* 語彙の設定\n",
        "* データローダの設定\n",
        "* モデルの設定\n",
        "* トレイナの設定\n",
        "\n",
        "まず設定ファイルを`livedoor_news.jsonnet`に書き込みます。"
      ]
    },
    {
      "cell_type": "code",
      "metadata": {
        "id": "Y4PJwlDzUxdA"
      },
      "source": [
        "model_config = \"\"\"{\n",
        "    \"random_seed\": 2,\n",
        "    \"pytorch_seed\": 2,\n",
        "    \"train_data_path\": \"data/livedoor_news/livedoor_news_train.jsonl\",\n",
        "    \"validation_data_path\": \"data/livedoor_news/livedoor_news_validation.jsonl\",\n",
        "    \"dataset_reader\": {\n",
        "        \"type\": \"text_classification_json\",\n",
        "        \"tokenizer\": {\n",
        "            \"type\": \"mecab\"\n",
        "        },\n",
        "        \"token_indexers\": {\n",
        "            \"tokens\": {\n",
        "                \"type\": \"single_id\"\n",
        "            }\n",
        "        }\n",
        "    },\n",
        "    \"vocabulary\": {},\n",
        "    \"datasets_for_vocab_creation\": [\"train\", \"validation\"],\n",
        "    \"data_loader\": {\n",
        "        \"batch_size\": 32,\n",
        "        \"shuffle\": true\n",
        "    },\n",
        "    \"validation_data_loader\": {\n",
        "        \"batch_size\": 32,\n",
        "        \"shuffle\": false\n",
        "    },\n",
        "    \"model\": {\n",
        "        \"type\": \"basic_classifier\",\n",
        "        \"text_field_embedder\": {\n",
        "            \"token_embedders\": {\n",
        "                \"tokens\": {\n",
        "                    \"type\": \"embedding\",\n",
        "                    \"embedding_dim\": 100\n",
        "                }\n",
        "            }\n",
        "        },\n",
        "        \"seq2vec_encoder\": {\n",
        "           \"type\": \"bag_of_embeddings\",\n",
        "           \"embedding_dim\": 100\n",
        "        }\n",
        "    },\n",
        "    \"trainer\": {\n",
        "        \"optimizer\": {\n",
        "            \"type\": \"adam\"\n",
        "        },\n",
        "        \"num_epochs\": 10,\n",
        "        \"patience\": 3,\n",
        "        \"cuda_device\": 0\n",
        "    }\n",
        "}\"\"\"\n",
        "with open(\"livedoor_news.jsonnet\", \"w\") as f:\n",
        "  f.write(model_config)"
      ],
      "execution_count": null,
      "outputs": []
    },
    {
      "cell_type": "markdown",
      "metadata": {
        "id": "aB7k_H1Ks491"
      },
      "source": [
        "#### 乱数シードの指定"
      ]
    },
    {
      "cell_type": "markdown",
      "metadata": {
        "id": "ErVPzbqWrGX0"
      },
      "source": [
        "乱数のシードを指定します。\n",
        "```json\n",
        "    \"random_seed\": 2,\n",
        "    \"pytorch_seed\": 2,\n",
        "```"
      ]
    },
    {
      "cell_type": "markdown",
      "metadata": {
        "id": "SqVJ8gm2s-5a"
      },
      "source": [
        "#### データセットのパスの指定"
      ]
    },
    {
      "cell_type": "markdown",
      "metadata": {
        "id": "d2_5_FkxrLlN"
      },
      "source": [
        "訓練用のデータセットのパス（`train_data_path`）および検証用のデータセットのパス（`validation_data_path`）を指定します。\n",
        "\n",
        "```json\n",
        "    \"train_data_path\": \"data/livedoor_news/livedoor_news_train.jsonl\",\n",
        "    \"validation_data_path\": \"data/livedoor_news/livedoor_news_validation.jsonl\",\n",
        "```"
      ]
    },
    {
      "cell_type": "markdown",
      "metadata": {
        "id": "pbgi4y8ktNEw"
      },
      "source": [
        "#### データセットリーダの設定"
      ]
    },
    {
      "cell_type": "markdown",
      "metadata": {
        "id": "CHCbabCnpH9U"
      },
      "source": [
        "\n",
        "データセットリーダを作成します。\n",
        "\n",
        "AllenNLPの設定ファイルでクラスに関連する設定を記述する際は、クラスの名前を`type`属性で指定し、そのクラスへの引数をそのほかの属性で指定します。\n",
        "ここでクラスの名前には該当するクラスのAllenNLP上での登録名を指定します。\n",
        "AllenNLPに実装されているクラスの登録名は[ドキュメントに記載](https://docs.allennlp.org/v1.1.0/api/data/dataset_readers/text_classification_json/)されています。"
      ]
    },
    {
      "cell_type": "markdown",
      "metadata": {
        "id": "jdG391ihYWd2"
      },
      "source": [
        "ここではデータセットリーダとして`TextClassificationJsonReader`（`text_classification_json`）を指定し、このクラスへの引数としてトークナイザとトークンインデクサの設定を指定します。\n",
        "トークナイザには`MecabTokenizer`（`mecab`）、トークンインデクサには`SingleIdTokenIndexer`（`single_id`）を指定します。\n",
        "\n",
        "```json\n",
        "    \"dataset_reader\": {\n",
        "        \"type\": \"text_classification_json\",\n",
        "        \"tokenizer\": {\n",
        "            \"type\": \"mecab\"\n",
        "        },\n",
        "        \"token_indexers\": {\n",
        "            \"tokens\": {\n",
        "                \"type\": \"single_id\"\n",
        "            }\n",
        "        }\n",
        "    },\n",
        "```"
      ]
    },
    {
      "cell_type": "markdown",
      "metadata": {
        "id": "aprmbpWWtQon"
      },
      "source": [
        "#### 語彙の設定"
      ]
    },
    {
      "cell_type": "markdown",
      "metadata": {
        "id": "gO57XCVGshws"
      },
      "source": [
        "語彙の設定を行います。\n",
        "\n",
        "ここではPythonでの実装と同様に引数を指定せずに空の設定を記述します。\n",
        "また`datasets_for_vocab_creation`属性で、語彙の作成の際に訓練データセット（`train`）と検証データセット（`validation`）の双方を用いるように設定します。\n",
        "\n",
        "```json\n",
        "    \"vocabulary\": {},\n",
        "    \"datasets_for_vocab_creation\": [\"train\", \"validation\"],\n",
        "```"
      ]
    },
    {
      "cell_type": "markdown",
      "metadata": {
        "id": "8kWIWv0-tzGj"
      },
      "source": [
        "#### データローダの設定"
      ]
    },
    {
      "cell_type": "markdown",
      "metadata": {
        "id": "RnXjJ6-St18v"
      },
      "source": [
        "データローダを設定します。\n",
        "\n",
        "訓練データセット用のデータローダ（`data_loader`）と検証データセット用のデータローダ（`validation_data_loader`）の2つのデータローダを作成します。\n",
        "`batch_size`には32を指定します。訓練データセット用のデータローダのみ`shuffle`属性を`true`に指定し、データセット中のインスタンスをランダムに並び替えてからミニバッチを作成するように設定します。\n",
        "\n",
        "\n",
        "```json\n",
        "    \"data_loader\": {\n",
        "        \"batch_size\": 32,\n",
        "        \"shuffle\": true\n",
        "    },\n",
        "    \"validation_data_loader\": {\n",
        "        \"batch_size\": 32,\n",
        "        \"shuffle\": false\n",
        "    },\n",
        "```"
      ]
    },
    {
      "cell_type": "markdown",
      "metadata": {
        "id": "cRijj9J_udmg"
      },
      "source": [
        "#### モデルの設定"
      ]
    },
    {
      "cell_type": "markdown",
      "metadata": {
        "id": "I3mtOe_7ui8w"
      },
      "source": [
        "モデルの設定を行います。\n",
        "\n",
        "`BasicClassifier`（`basic_classifier`）に対して、テキストフィールドエンベダ（`text_field_embedder`）とseq2vecエンコーダ（`seq2vec_encoder`）を引数として指定します。\n",
        "\n",
        "テキストフィールドエンベダで用いるトークンエンベダとして`Embedding`（`embedding`）を指定し、seq2vecエンコーダには`BagOfEmbeddingsEncoder`（`bag_of_embeddings`）を指定します。指定する引数およびその値は、Pythonの実装で用いたものと同様のものを用います。\n",
        "\n",
        "```json\n",
        "    \"model\": {\n",
        "        \"type\": \"basic_classifier\",\n",
        "        \"text_field_embedder\": {\n",
        "            \"token_embedders\": {\n",
        "                \"tokens\": {\n",
        "                    \"type\": \"embedding\",\n",
        "                    \"embedding_dim\": 100\n",
        "                }\n",
        "            }\n",
        "        },\n",
        "        \"seq2vec_encoder\": {\n",
        "           \"type\": \"bag_of_embeddings\",\n",
        "           \"embedding_dim\": 100\n",
        "        }\n",
        "    },\n",
        "```"
      ]
    },
    {
      "cell_type": "markdown",
      "metadata": {
        "id": "vqTfay56ugjM"
      },
      "source": [
        "#### トレイナの設定"
      ]
    },
    {
      "cell_type": "markdown",
      "metadata": {
        "id": "ffiec7_Uu7Zs"
      },
      "source": [
        "トレイナの設定を行います。\n",
        "\n",
        "指定する引数およびその値は、Pythonの実装で用いたものと同様のものを用います。\n",
        "\n",
        "```json\n",
        "    \"trainer\": {\n",
        "        \"optimizer\": {\n",
        "            \"type\": \"adam\"\n",
        "        },\n",
        "        \"num_epochs\": 10,\n",
        "        \"patience\": 3,\n",
        "        \"cuda_device\": 0\n",
        "    }\n",
        "```"
      ]
    },
    {
      "cell_type": "markdown",
      "metadata": {
        "id": "8TmLC7TpNwc9"
      },
      "source": [
        "### モデルの訓練"
      ]
    },
    {
      "cell_type": "markdown",
      "metadata": {
        "id": "FrLAKMA7OMqE"
      },
      "source": [
        "作成した設定ファイルを用いて、訓練を実行します。\n",
        "\n",
        "まず、上述した`MecabTokenizer`をAllenNLPコマンドから参照可能にするために、同様の内容を記述した`mecab_tokenizer.py`をダウンロードします。"
      ]
    },
    {
      "cell_type": "code",
      "metadata": {
        "id": "uhWI3idLoScW"
      },
      "source": [
        "!wget -q https://dl.dropboxusercontent.com/s/2qeulihmlv8btbg/mecab_tokenizer.py"
      ],
      "execution_count": null,
      "outputs": []
    },
    {
      "cell_type": "markdown",
      "metadata": {
        "id": "-gZ9_fnDOAzw"
      },
      "source": [
        "モデルの訓練は、`allennlp train`コマンドを用いて行います。\n",
        "**出力ディレクトリ**を`--serialization-dir`引数を用いて`exp_livedoor_news`ディレクトリに指定します。"
      ]
    },
    {
      "cell_type": "code",
      "metadata": {
        "id": "p0CHam0uoevK",
        "outputId": "dc90e3f1-cdf4-4a33-d877-5251960af5f5",
        "colab": {
          "base_uri": "https://localhost:8080/",
          "height": 1000
        }
      },
      "source": [
        "!rm -rf exp_livedoor_news\n",
        "!allennlp train --serialization-dir exp_livedoor_news --include-package mecab_tokenizer livedoor_news.jsonnet"
      ],
      "execution_count": null,
      "outputs": [
        {
          "output_type": "stream",
          "text": [
            "2020-10-20 05:24:15.555313: I tensorflow/stream_executor/platform/default/dso_loader.cc:48] Successfully opened dynamic library libcudart.so.10.1\n",
            "2020-10-20 05:24:16,706 - INFO - transformers.file_utils - TensorFlow version 2.3.0 available.\n",
            "2020-10-20 05:24:17,438 - INFO - allennlp.common.params - random_seed = 2\n",
            "2020-10-20 05:24:17,438 - INFO - allennlp.common.params - numpy_seed = 1337\n",
            "2020-10-20 05:24:17,438 - INFO - allennlp.common.params - pytorch_seed = 2\n",
            "2020-10-20 05:24:17,444 - INFO - allennlp.common.checks - Pytorch version: 1.6.0+cu101\n",
            "2020-10-20 05:24:17,445 - INFO - allennlp.common.params - type = default\n",
            "2020-10-20 05:24:17,446 - INFO - allennlp.common.params - dataset_reader.type = text_classification_json\n",
            "2020-10-20 05:24:17,446 - INFO - allennlp.common.params - dataset_reader.lazy = False\n",
            "2020-10-20 05:24:17,446 - INFO - allennlp.common.params - dataset_reader.cache_directory = None\n",
            "2020-10-20 05:24:17,446 - INFO - allennlp.common.params - dataset_reader.max_instances = None\n",
            "2020-10-20 05:24:17,446 - INFO - allennlp.common.params - dataset_reader.manual_distributed_sharding = False\n",
            "2020-10-20 05:24:17,446 - INFO - allennlp.common.params - dataset_reader.manual_multi_process_sharding = False\n",
            "2020-10-20 05:24:17,447 - INFO - allennlp.common.params - dataset_reader.token_indexers.tokens.type = single_id\n",
            "2020-10-20 05:24:17,447 - INFO - allennlp.common.params - dataset_reader.token_indexers.tokens.namespace = tokens\n",
            "2020-10-20 05:24:17,447 - INFO - allennlp.common.params - dataset_reader.token_indexers.tokens.lowercase_tokens = False\n",
            "2020-10-20 05:24:17,447 - INFO - allennlp.common.params - dataset_reader.token_indexers.tokens.start_tokens = None\n",
            "2020-10-20 05:24:17,447 - INFO - allennlp.common.params - dataset_reader.token_indexers.tokens.end_tokens = None\n",
            "2020-10-20 05:24:17,447 - INFO - allennlp.common.params - dataset_reader.token_indexers.tokens.feature_name = text\n",
            "2020-10-20 05:24:17,447 - INFO - allennlp.common.params - dataset_reader.token_indexers.tokens.default_value = THIS IS A REALLY UNLIKELY VALUE THAT HAS TO BE A STRING\n",
            "2020-10-20 05:24:17,447 - INFO - allennlp.common.params - dataset_reader.token_indexers.tokens.token_min_padding_length = 0\n",
            "2020-10-20 05:24:17,447 - INFO - allennlp.common.params - dataset_reader.tokenizer.type = mecab\n",
            "2020-10-20 05:24:17,448 - INFO - allennlp.common.params - dataset_reader.segment_sentences = False\n",
            "2020-10-20 05:24:17,448 - INFO - allennlp.common.params - dataset_reader.max_sequence_length = None\n",
            "2020-10-20 05:24:17,448 - INFO - allennlp.common.params - dataset_reader.skip_label_indexing = False\n",
            "2020-10-20 05:24:17,448 - INFO - allennlp.common.params - train_data_path = data/livedoor_news/livedoor_news_train.jsonl\n",
            "2020-10-20 05:24:17,449 - INFO - allennlp.common.params - datasets_for_vocab_creation = ['train', 'validation']\n",
            "2020-10-20 05:24:17,449 - INFO - allennlp.common.params - validation_dataset_reader = None\n",
            "2020-10-20 05:24:17,449 - INFO - allennlp.common.params - validation_data_path = data/livedoor_news/livedoor_news_validation.jsonl\n",
            "2020-10-20 05:24:17,449 - INFO - allennlp.common.params - test_data_path = None\n",
            "2020-10-20 05:24:17,449 - INFO - allennlp.common.params - evaluate_on_test = False\n",
            "2020-10-20 05:24:17,449 - INFO - allennlp.common.params - batch_weight_key = \n",
            "2020-10-20 05:24:17,449 - INFO - allennlp.training.util - Reading training data from data/livedoor_news/livedoor_news_train.jsonl\n",
            "reading instances: 5902it [00:19, 304.98it/s]\n",
            "2020-10-20 05:24:36,802 - INFO - allennlp.training.util - Reading validation data from data/livedoor_news/livedoor_news_validation.jsonl\n",
            "reading instances: 737it [00:01, 386.82it/s]\n",
            "2020-10-20 05:24:38,708 - INFO - allennlp.commands.train - From dataset instances, train, validation will be considered for vocabulary creation.\n",
            "2020-10-20 05:24:38,708 - INFO - allennlp.common.params - vocabulary.type = from_instances\n",
            "2020-10-20 05:24:38,709 - INFO - allennlp.common.params - vocabulary.min_count = None\n",
            "2020-10-20 05:24:38,709 - INFO - allennlp.common.params - vocabulary.max_vocab_size = None\n",
            "2020-10-20 05:24:38,709 - INFO - allennlp.common.params - vocabulary.non_padded_namespaces = ('*tags', '*labels')\n",
            "2020-10-20 05:24:38,709 - INFO - allennlp.common.params - vocabulary.pretrained_files = None\n",
            "2020-10-20 05:24:38,709 - INFO - allennlp.common.params - vocabulary.only_include_pretrained_words = False\n",
            "2020-10-20 05:24:38,709 - INFO - allennlp.common.params - vocabulary.tokens_to_add = None\n",
            "2020-10-20 05:24:38,709 - INFO - allennlp.common.params - vocabulary.min_pretrained_embeddings = None\n",
            "2020-10-20 05:24:38,709 - INFO - allennlp.common.params - vocabulary.padding_token = @@PADDING@@\n",
            "2020-10-20 05:24:38,709 - INFO - allennlp.common.params - vocabulary.oov_token = @@UNKNOWN@@\n",
            "2020-10-20 05:24:38,710 - INFO - allennlp.data.vocabulary - Fitting token dictionary from dataset.\n",
            "building vocab: 6639it [00:02, 2225.09it/s]\n",
            "2020-10-20 05:24:41,829 - INFO - allennlp.common.params - model.type = basic_classifier\n",
            "2020-10-20 05:24:41,829 - INFO - allennlp.common.params - model.regularizer = None\n",
            "2020-10-20 05:24:41,830 - INFO - allennlp.common.params - model.text_field_embedder.type = basic\n",
            "2020-10-20 05:24:41,830 - INFO - allennlp.common.params - model.text_field_embedder.token_embedders.tokens.type = embedding\n",
            "2020-10-20 05:24:41,830 - INFO - allennlp.common.params - model.text_field_embedder.token_embedders.tokens.embedding_dim = 100\n",
            "2020-10-20 05:24:41,830 - INFO - allennlp.common.params - model.text_field_embedder.token_embedders.tokens.num_embeddings = None\n",
            "2020-10-20 05:24:41,830 - INFO - allennlp.common.params - model.text_field_embedder.token_embedders.tokens.projection_dim = None\n",
            "2020-10-20 05:24:41,831 - INFO - allennlp.common.params - model.text_field_embedder.token_embedders.tokens.weight = None\n",
            "2020-10-20 05:24:41,831 - INFO - allennlp.common.params - model.text_field_embedder.token_embedders.tokens.padding_index = None\n",
            "2020-10-20 05:24:41,831 - INFO - allennlp.common.params - model.text_field_embedder.token_embedders.tokens.trainable = True\n",
            "2020-10-20 05:24:41,831 - INFO - allennlp.common.params - model.text_field_embedder.token_embedders.tokens.max_norm = None\n",
            "2020-10-20 05:24:41,831 - INFO - allennlp.common.params - model.text_field_embedder.token_embedders.tokens.norm_type = 2.0\n",
            "2020-10-20 05:24:41,831 - INFO - allennlp.common.params - model.text_field_embedder.token_embedders.tokens.scale_grad_by_freq = False\n",
            "2020-10-20 05:24:41,831 - INFO - allennlp.common.params - model.text_field_embedder.token_embedders.tokens.sparse = False\n",
            "2020-10-20 05:24:41,831 - INFO - allennlp.common.params - model.text_field_embedder.token_embedders.tokens.vocab_namespace = tokens\n",
            "2020-10-20 05:24:41,831 - INFO - allennlp.common.params - model.text_field_embedder.token_embedders.tokens.pretrained_file = None\n",
            "2020-10-20 05:24:41,890 - INFO - allennlp.common.params - model.seq2vec_encoder.type = bag_of_embeddings\n",
            "2020-10-20 05:24:41,890 - INFO - allennlp.common.params - model.seq2vec_encoder.embedding_dim = 100\n",
            "2020-10-20 05:24:41,890 - INFO - allennlp.common.params - model.seq2vec_encoder.averaged = False\n",
            "2020-10-20 05:24:41,890 - INFO - allennlp.common.params - model.seq2seq_encoder = None\n",
            "2020-10-20 05:24:41,890 - INFO - allennlp.common.params - model.feedforward = None\n",
            "2020-10-20 05:24:41,890 - INFO - allennlp.common.params - model.dropout = None\n",
            "2020-10-20 05:24:41,890 - INFO - allennlp.common.params - model.num_labels = None\n",
            "2020-10-20 05:24:41,890 - INFO - allennlp.common.params - model.label_namespace = labels\n",
            "2020-10-20 05:24:41,891 - INFO - allennlp.common.params - model.namespace = tokens\n",
            "2020-10-20 05:24:41,891 - INFO - allennlp.common.params - model.initializer = <allennlp.nn.initializers.InitializerApplicator object at 0x7f87bcfaa940>\n",
            "2020-10-20 05:24:41,891 - INFO - allennlp.nn.initializers - Initializing parameters\n",
            "2020-10-20 05:24:41,891 - INFO - allennlp.nn.initializers - Done initializing parameters; the following parameters are using their default initialization from their code\n",
            "2020-10-20 05:24:41,891 - INFO - allennlp.nn.initializers -    _classification_layer.bias\n",
            "2020-10-20 05:24:41,891 - INFO - allennlp.nn.initializers -    _classification_layer.weight\n",
            "2020-10-20 05:24:41,891 - INFO - allennlp.nn.initializers -    _text_field_embedder.token_embedder_tokens.weight\n",
            "2020-10-20 05:24:42,042 - INFO - allennlp.common.params - data_loader.type = pytorch_dataloader\n",
            "2020-10-20 05:24:42,042 - INFO - allennlp.common.params - data_loader.batch_size = 32\n",
            "2020-10-20 05:24:42,042 - INFO - allennlp.common.params - data_loader.shuffle = True\n",
            "2020-10-20 05:24:42,042 - INFO - allennlp.common.params - data_loader.sampler = None\n",
            "2020-10-20 05:24:42,042 - INFO - allennlp.common.params - data_loader.batch_sampler = None\n",
            "2020-10-20 05:24:42,042 - INFO - allennlp.common.params - data_loader.num_workers = 0\n",
            "2020-10-20 05:24:42,042 - INFO - allennlp.common.params - data_loader.pin_memory = False\n",
            "2020-10-20 05:24:42,043 - INFO - allennlp.common.params - data_loader.drop_last = False\n",
            "2020-10-20 05:24:42,043 - INFO - allennlp.common.params - data_loader.timeout = 0\n",
            "2020-10-20 05:24:42,043 - INFO - allennlp.common.params - data_loader.worker_init_fn = None\n",
            "2020-10-20 05:24:42,043 - INFO - allennlp.common.params - data_loader.multiprocessing_context = None\n",
            "2020-10-20 05:24:42,043 - INFO - allennlp.common.params - data_loader.batches_per_epoch = None\n",
            "2020-10-20 05:24:42,043 - INFO - allennlp.common.params - validation_data_loader.type = pytorch_dataloader\n",
            "2020-10-20 05:24:42,044 - INFO - allennlp.common.params - validation_data_loader.batch_size = 32\n",
            "2020-10-20 05:24:42,044 - INFO - allennlp.common.params - validation_data_loader.shuffle = False\n",
            "2020-10-20 05:24:42,044 - INFO - allennlp.common.params - validation_data_loader.sampler = None\n",
            "2020-10-20 05:24:42,044 - INFO - allennlp.common.params - validation_data_loader.batch_sampler = None\n",
            "2020-10-20 05:24:42,044 - INFO - allennlp.common.params - validation_data_loader.num_workers = 0\n",
            "2020-10-20 05:24:42,044 - INFO - allennlp.common.params - validation_data_loader.pin_memory = False\n",
            "2020-10-20 05:24:42,044 - INFO - allennlp.common.params - validation_data_loader.drop_last = False\n",
            "2020-10-20 05:24:42,044 - INFO - allennlp.common.params - validation_data_loader.timeout = 0\n",
            "2020-10-20 05:24:42,044 - INFO - allennlp.common.params - validation_data_loader.worker_init_fn = None\n",
            "2020-10-20 05:24:42,044 - INFO - allennlp.common.params - validation_data_loader.multiprocessing_context = None\n",
            "2020-10-20 05:24:42,044 - INFO - allennlp.common.params - validation_data_loader.batches_per_epoch = None\n",
            "2020-10-20 05:24:42,045 - INFO - allennlp.common.params - trainer.type = gradient_descent\n",
            "2020-10-20 05:24:42,045 - INFO - allennlp.common.params - trainer.patience = 3\n",
            "2020-10-20 05:24:42,045 - INFO - allennlp.common.params - trainer.validation_metric = -loss\n",
            "2020-10-20 05:24:42,045 - INFO - allennlp.common.params - trainer.num_epochs = 10\n",
            "2020-10-20 05:24:42,045 - INFO - allennlp.common.params - trainer.cuda_device = 0\n",
            "2020-10-20 05:24:42,045 - INFO - allennlp.common.params - trainer.grad_norm = None\n",
            "2020-10-20 05:24:42,045 - INFO - allennlp.common.params - trainer.grad_clipping = None\n",
            "2020-10-20 05:24:42,046 - INFO - allennlp.common.params - trainer.distributed = None\n",
            "2020-10-20 05:24:42,046 - INFO - allennlp.common.params - trainer.world_size = 1\n",
            "2020-10-20 05:24:42,046 - INFO - allennlp.common.params - trainer.num_gradient_accumulation_steps = 1\n",
            "2020-10-20 05:24:42,046 - INFO - allennlp.common.params - trainer.use_amp = False\n",
            "2020-10-20 05:24:42,046 - INFO - allennlp.common.params - trainer.no_grad = None\n",
            "2020-10-20 05:24:42,046 - INFO - allennlp.common.params - trainer.learning_rate_scheduler = None\n",
            "2020-10-20 05:24:42,046 - INFO - allennlp.common.params - trainer.momentum_scheduler = None\n",
            "2020-10-20 05:24:42,046 - INFO - allennlp.common.params - trainer.tensorboard_writer = None\n",
            "2020-10-20 05:24:42,046 - INFO - allennlp.common.params - trainer.moving_average = None\n",
            "2020-10-20 05:24:42,046 - INFO - allennlp.common.params - trainer.checkpointer = None\n",
            "2020-10-20 05:24:42,047 - INFO - allennlp.common.params - trainer.batch_callbacks = None\n",
            "2020-10-20 05:24:42,047 - INFO - allennlp.common.params - trainer.epoch_callbacks = None\n",
            "2020-10-20 05:24:46,408 - INFO - allennlp.common.params - trainer.optimizer.type = adam\n",
            "2020-10-20 05:24:46,408 - INFO - allennlp.common.params - trainer.optimizer.parameter_groups = None\n",
            "2020-10-20 05:24:46,409 - INFO - allennlp.common.params - trainer.optimizer.lr = 0.001\n",
            "2020-10-20 05:24:46,409 - INFO - allennlp.common.params - trainer.optimizer.betas = (0.9, 0.999)\n",
            "2020-10-20 05:24:46,409 - INFO - allennlp.common.params - trainer.optimizer.eps = 1e-08\n",
            "2020-10-20 05:24:46,409 - INFO - allennlp.common.params - trainer.optimizer.weight_decay = 0.0\n",
            "2020-10-20 05:24:46,409 - INFO - allennlp.common.params - trainer.optimizer.amsgrad = False\n",
            "2020-10-20 05:24:46,409 - INFO - allennlp.training.optimizers - Number of trainable parameters: 7254609\n",
            "2020-10-20 05:24:46,410 - INFO - allennlp.common.util - The following parameters are Frozen (without gradient):\n",
            "2020-10-20 05:24:46,410 - INFO - allennlp.common.util - The following parameters are Tunable (with gradient):\n",
            "2020-10-20 05:24:46,410 - INFO - allennlp.common.util - _text_field_embedder.token_embedder_tokens.weight\n",
            "2020-10-20 05:24:46,410 - INFO - allennlp.common.util - _classification_layer.weight\n",
            "2020-10-20 05:24:46,410 - INFO - allennlp.common.util - _classification_layer.bias\n",
            "2020-10-20 05:24:46,414 - INFO - allennlp.training.trainer - Beginning training.\n",
            "2020-10-20 05:24:46,415 - INFO - allennlp.training.trainer - Epoch 0/9\n",
            "2020-10-20 05:24:46,415 - INFO - allennlp.training.trainer - Worker 0 memory usage MB: 5335.432\n",
            "2020-10-20 05:24:46,529 - INFO - allennlp.training.trainer - GPU 0 memory usage MB: 2704\n",
            "2020-10-20 05:24:46,529 - INFO - allennlp.training.trainer - Training\n",
            "accuracy: 0.8929, batch_loss: 0.5190, loss: 0.3974 ||: 100%|##########| 185/185 [00:04<00:00, 39.49it/s]\n",
            "2020-10-20 05:24:51,215 - INFO - allennlp.training.trainer - Validating\n",
            "accuracy: 0.9430, batch_loss: 0.1202, loss: 0.2169 ||: 100%|##########| 24/24 [00:00<00:00, 43.74it/s]\n",
            "2020-10-20 05:24:51,764 - INFO - allennlp.training.tensorboard_writer -                        Training |  Validation\n",
            "2020-10-20 05:24:51,765 - INFO - allennlp.training.tensorboard_writer - accuracy           |     0.893  |     0.943\n",
            "2020-10-20 05:24:51,769 - INFO - allennlp.training.tensorboard_writer - gpu_0_memory_MB    |  2704.000  |       N/A\n",
            "2020-10-20 05:24:51,769 - INFO - allennlp.training.tensorboard_writer - loss               |     0.397  |     0.217\n",
            "2020-10-20 05:24:51,770 - INFO - allennlp.training.tensorboard_writer - worker_0_memory_MB |  5335.432  |       N/A\n",
            "2020-10-20 05:24:52,086 - INFO - allennlp.training.checkpointer - Best validation performance so far. Copying weights to 'exp_livedoor_news/best.th'.\n",
            "2020-10-20 05:24:52,140 - INFO - allennlp.training.trainer - Epoch duration: 0:00:05.725114\n",
            "2020-10-20 05:24:52,141 - INFO - allennlp.training.trainer - Estimated training time remaining: 0:00:51\n",
            "2020-10-20 05:24:52,141 - INFO - allennlp.training.trainer - Epoch 1/9\n",
            "2020-10-20 05:24:52,142 - INFO - allennlp.training.trainer - Worker 0 memory usage MB: 5391.28\n",
            "2020-10-20 05:24:52,258 - INFO - allennlp.training.trainer - GPU 0 memory usage MB: 3446\n",
            "2020-10-20 05:24:52,259 - INFO - allennlp.training.trainer - Training\n",
            "accuracy: 0.9963, batch_loss: 0.0142, loss: 0.0216 ||: 100%|##########| 185/185 [00:01<00:00, 167.32it/s]\n",
            "2020-10-20 05:24:53,365 - INFO - allennlp.training.trainer - Validating\n",
            "accuracy: 0.9525, batch_loss: 0.0066, loss: 0.2149 ||: 100%|##########| 24/24 [00:00<00:00, 303.65it/s]\n",
            "2020-10-20 05:24:53,445 - INFO - allennlp.training.tensorboard_writer -                        Training |  Validation\n",
            "2020-10-20 05:24:53,445 - INFO - allennlp.training.tensorboard_writer - accuracy           |     0.996  |     0.953\n",
            "2020-10-20 05:24:53,446 - INFO - allennlp.training.tensorboard_writer - gpu_0_memory_MB    |  3446.000  |       N/A\n",
            "2020-10-20 05:24:53,447 - INFO - allennlp.training.tensorboard_writer - loss               |     0.022  |     0.215\n",
            "2020-10-20 05:24:53,447 - INFO - allennlp.training.tensorboard_writer - worker_0_memory_MB |  5391.280  |       N/A\n",
            "2020-10-20 05:24:53,767 - INFO - allennlp.training.checkpointer - Best validation performance so far. Copying weights to 'exp_livedoor_news/best.th'.\n",
            "2020-10-20 05:24:53,833 - INFO - allennlp.training.trainer - Epoch duration: 0:00:01.691621\n",
            "2020-10-20 05:24:53,833 - INFO - allennlp.training.trainer - Estimated training time remaining: 0:00:29\n",
            "2020-10-20 05:24:53,834 - INFO - allennlp.training.trainer - Epoch 2/9\n",
            "2020-10-20 05:24:53,834 - INFO - allennlp.training.trainer - Worker 0 memory usage MB: 5391.28\n",
            "2020-10-20 05:24:53,941 - INFO - allennlp.training.trainer - GPU 0 memory usage MB: 3446\n",
            "2020-10-20 05:24:53,942 - INFO - allennlp.training.trainer - Training\n",
            "accuracy: 0.9981, batch_loss: 0.0036, loss: 0.0145 ||: 100%|##########| 185/185 [00:01<00:00, 174.17it/s]\n",
            "2020-10-20 05:24:55,005 - INFO - allennlp.training.trainer - Validating\n",
            "accuracy: 0.9579, batch_loss: 0.0039, loss: 0.1724 ||: 100%|##########| 24/24 [00:00<00:00, 293.79it/s]\n",
            "2020-10-20 05:24:55,087 - INFO - allennlp.training.tensorboard_writer -                        Training |  Validation\n",
            "2020-10-20 05:24:55,087 - INFO - allennlp.training.tensorboard_writer - accuracy           |     0.998  |     0.958\n",
            "2020-10-20 05:24:55,088 - INFO - allennlp.training.tensorboard_writer - gpu_0_memory_MB    |  3446.000  |       N/A\n",
            "2020-10-20 05:24:55,088 - INFO - allennlp.training.tensorboard_writer - loss               |     0.015  |     0.172\n",
            "2020-10-20 05:24:55,088 - INFO - allennlp.training.tensorboard_writer - worker_0_memory_MB |  5391.280  |       N/A\n",
            "2020-10-20 05:24:55,341 - INFO - allennlp.training.checkpointer - Best validation performance so far. Copying weights to 'exp_livedoor_news/best.th'.\n",
            "2020-10-20 05:24:55,450 - INFO - allennlp.training.trainer - Epoch duration: 0:00:01.616160\n",
            "2020-10-20 05:24:55,450 - INFO - allennlp.training.trainer - Estimated training time remaining: 0:00:21\n",
            "2020-10-20 05:24:55,450 - INFO - allennlp.training.trainer - Epoch 3/9\n",
            "2020-10-20 05:24:55,450 - INFO - allennlp.training.trainer - Worker 0 memory usage MB: 5391.28\n",
            "2020-10-20 05:24:55,560 - INFO - allennlp.training.trainer - GPU 0 memory usage MB: 3446\n",
            "2020-10-20 05:24:55,561 - INFO - allennlp.training.trainer - Training\n",
            "accuracy: 0.9995, batch_loss: 0.0021, loss: 0.0047 ||: 100%|##########| 185/185 [00:01<00:00, 174.58it/s]\n",
            "2020-10-20 05:24:56,621 - INFO - allennlp.training.trainer - Validating\n",
            "accuracy: 0.9593, batch_loss: 0.0029, loss: 0.1703 ||: 100%|##########| 24/24 [00:00<00:00, 295.84it/s]\n",
            "2020-10-20 05:24:56,703 - INFO - allennlp.training.tensorboard_writer -                        Training |  Validation\n",
            "2020-10-20 05:24:56,703 - INFO - allennlp.training.tensorboard_writer - accuracy           |     0.999  |     0.959\n",
            "2020-10-20 05:24:56,704 - INFO - allennlp.training.tensorboard_writer - gpu_0_memory_MB    |  3446.000  |       N/A\n",
            "2020-10-20 05:24:56,704 - INFO - allennlp.training.tensorboard_writer - loss               |     0.005  |     0.170\n",
            "2020-10-20 05:24:56,706 - INFO - allennlp.training.tensorboard_writer - worker_0_memory_MB |  5391.280  |       N/A\n",
            "2020-10-20 05:24:56,985 - INFO - allennlp.training.checkpointer - Best validation performance so far. Copying weights to 'exp_livedoor_news/best.th'.\n",
            "2020-10-20 05:24:57,047 - INFO - allennlp.training.trainer - Epoch duration: 0:00:01.597218\n",
            "2020-10-20 05:24:57,048 - INFO - allennlp.training.trainer - Estimated training time remaining: 0:00:15\n",
            "2020-10-20 05:24:57,048 - INFO - allennlp.training.trainer - Epoch 4/9\n",
            "2020-10-20 05:24:57,048 - INFO - allennlp.training.trainer - Worker 0 memory usage MB: 5391.28\n",
            "2020-10-20 05:24:57,159 - INFO - allennlp.training.trainer - GPU 0 memory usage MB: 3446\n",
            "2020-10-20 05:24:57,159 - INFO - allennlp.training.trainer - Training\n",
            "accuracy: 0.9995, batch_loss: 0.0035, loss: 0.0036 ||: 100%|##########| 185/185 [00:01<00:00, 176.61it/s]\n",
            "2020-10-20 05:24:58,208 - INFO - allennlp.training.trainer - Validating\n",
            "accuracy: 0.9579, batch_loss: 0.0018, loss: 0.1713 ||: 100%|##########| 24/24 [00:00<00:00, 296.83it/s]\n",
            "2020-10-20 05:24:58,289 - INFO - allennlp.training.tensorboard_writer -                        Training |  Validation\n",
            "2020-10-20 05:24:58,290 - INFO - allennlp.training.tensorboard_writer - accuracy           |     0.999  |     0.958\n",
            "2020-10-20 05:24:58,290 - INFO - allennlp.training.tensorboard_writer - gpu_0_memory_MB    |  3446.000  |       N/A\n",
            "2020-10-20 05:24:58,291 - INFO - allennlp.training.tensorboard_writer - loss               |     0.004  |     0.171\n",
            "2020-10-20 05:24:58,292 - INFO - allennlp.training.tensorboard_writer - worker_0_memory_MB |  5391.280  |       N/A\n",
            "2020-10-20 05:24:58,584 - INFO - allennlp.training.trainer - Epoch duration: 0:00:01.536737\n",
            "2020-10-20 05:24:58,585 - INFO - allennlp.training.trainer - Estimated training time remaining: 0:00:12\n",
            "2020-10-20 05:24:58,585 - INFO - allennlp.training.trainer - Epoch 5/9\n",
            "2020-10-20 05:24:58,585 - INFO - allennlp.training.trainer - Worker 0 memory usage MB: 5391.28\n",
            "2020-10-20 05:24:58,697 - INFO - allennlp.training.trainer - GPU 0 memory usage MB: 3446\n",
            "2020-10-20 05:24:58,697 - INFO - allennlp.training.trainer - Training\n",
            "accuracy: 0.9997, batch_loss: 0.0001, loss: 0.0029 ||: 100%|##########| 185/185 [00:01<00:00, 172.88it/s]\n",
            "2020-10-20 05:24:59,768 - INFO - allennlp.training.trainer - Validating\n",
            "accuracy: 0.9566, batch_loss: 0.0016, loss: 0.1746 ||: 100%|##########| 24/24 [00:00<00:00, 270.43it/s]\n",
            "2020-10-20 05:24:59,858 - INFO - allennlp.training.tensorboard_writer -                        Training |  Validation\n",
            "2020-10-20 05:24:59,858 - INFO - allennlp.training.tensorboard_writer - accuracy           |     1.000  |     0.957\n",
            "2020-10-20 05:24:59,858 - INFO - allennlp.training.tensorboard_writer - gpu_0_memory_MB    |  3446.000  |       N/A\n",
            "2020-10-20 05:24:59,859 - INFO - allennlp.training.tensorboard_writer - loss               |     0.003  |     0.175\n",
            "2020-10-20 05:24:59,860 - INFO - allennlp.training.tensorboard_writer - worker_0_memory_MB |  5391.280  |       N/A\n",
            "2020-10-20 05:25:00,183 - INFO - allennlp.training.trainer - Epoch duration: 0:00:01.597739\n",
            "2020-10-20 05:25:00,183 - INFO - allennlp.training.trainer - Estimated training time remaining: 0:00:09\n",
            "2020-10-20 05:25:00,183 - INFO - allennlp.training.trainer - Epoch 6/9\n",
            "2020-10-20 05:25:00,183 - INFO - allennlp.training.trainer - Worker 0 memory usage MB: 5391.28\n",
            "2020-10-20 05:25:00,295 - INFO - allennlp.training.trainer - GPU 0 memory usage MB: 3446\n",
            "2020-10-20 05:25:00,296 - INFO - allennlp.training.trainer - Training\n",
            "accuracy: 0.9997, batch_loss: 0.0030, loss: 0.0024 ||: 100%|##########| 185/185 [00:01<00:00, 176.15it/s]\n",
            "2020-10-20 05:25:01,347 - INFO - allennlp.training.trainer - Validating\n",
            "accuracy: 0.9607, batch_loss: 0.0015, loss: 0.1734 ||: 100%|##########| 24/24 [00:00<00:00, 273.04it/s]\n",
            "2020-10-20 05:25:01,436 - INFO - allennlp.training.trainer - Ran out of patience.  Stopping training.\n",
            "2020-10-20 05:25:01,437 - INFO - allennlp.training.checkpointer - loading best weights\n",
            "2020-10-20 05:25:01,459 - INFO - allennlp.common.util - Metrics: {\n",
            "  \"best_epoch\": 3,\n",
            "  \"peak_worker_0_memory_MB\": 5391.28,\n",
            "  \"peak_gpu_0_memory_MB\": 3446,\n",
            "  \"training_duration\": \"0:00:13.445964\",\n",
            "  \"training_start_epoch\": 0,\n",
            "  \"training_epochs\": 5,\n",
            "  \"epoch\": 5,\n",
            "  \"training_accuracy\": 0.9996611318197222,\n",
            "  \"training_loss\": 0.0028502423625370184,\n",
            "  \"training_worker_0_memory_MB\": 5391.28,\n",
            "  \"training_gpu_0_memory_MB\": 3446,\n",
            "  \"validation_accuracy\": 0.9565807327001357,\n",
            "  \"validation_loss\": 0.17460694712159844,\n",
            "  \"best_validation_accuracy\": 0.9592944369063772,\n",
            "  \"best_validation_loss\": 0.17032085664686747\n",
            "}\n",
            "2020-10-20 05:25:01,459 - INFO - allennlp.models.archival - archiving weights and vocabulary to exp_livedoor_news/model.tar.gz\n"
          ],
          "name": "stdout"
        }
      ]
    },
    {
      "cell_type": "markdown",
      "metadata": {
        "id": "zNcKXSOMguJ_"
      },
      "source": [
        "Pythonで記述したモデルを訓練した際と同じ指標の値が出力されており、設定ファイルを用いてPythonで記述したモデルと同様のモデルを記述できたことが分かります。\n",
        "```json\n",
        "{\n",
        "  \"best_epoch\": 3,\n",
        "  \"peak_worker_0_memory_MB\": 5391.28,\n",
        "  \"peak_gpu_0_memory_MB\": 3446,\n",
        "  \"training_duration\": \"0:00:13.445964\",\n",
        "  \"training_start_epoch\": 0,\n",
        "  \"training_epochs\": 5,\n",
        "  \"epoch\": 5,\n",
        "  \"training_accuracy\": 0.9996611318197222,\n",
        "  \"training_loss\": 0.0028502423625370184,\n",
        "  \"training_worker_0_memory_MB\": 5391.28,\n",
        "  \"training_gpu_0_memory_MB\": 3446,\n",
        "  \"validation_accuracy\": 0.9565807327001357,\n",
        "  \"validation_loss\": 0.17460694712159844,\n",
        "  \"best_validation_accuracy\": 0.9592944369063772,\n",
        "  \"best_validation_loss\": 0.17032085664686747\n",
        "}\n",
        "```"
      ]
    },
    {
      "cell_type": "markdown",
      "metadata": {
        "id": "3gUniGRqNpz0"
      },
      "source": [
        "訓練が終わると、出力ディレクトリに`model.tar.gz`というファイルが生成されます。\n",
        "このファイルは、モデルを動作させるのに必要なデータを1つのファイルにまとめた**アーカイブファイル**と呼ばれるファイルで、中身には語彙（`vocabulary`ディレクトリ）、実行した設定の内容を格納したJSONファイル（`config.json`）、訓練したモデルの重み（`weights.th`）が含まれます。\n"
      ]
    },
    {
      "cell_type": "code",
      "metadata": {
        "id": "k81M1UvzO9L2",
        "outputId": "53194c7e-060c-42ed-971b-50d75ff324c8",
        "colab": {
          "base_uri": "https://localhost:8080/",
          "height": 136
        }
      },
      "source": [
        "!tar tf exp_livedoor_news/model.tar.gz"
      ],
      "execution_count": null,
      "outputs": [
        {
          "output_type": "stream",
          "text": [
            "config.json\n",
            "weights.th\n",
            "vocabulary/\n",
            "vocabulary/tokens.txt\n",
            "vocabulary/.lock\n",
            "vocabulary/non_padded_namespaces.txt\n",
            "vocabulary/labels.txt\n"
          ],
          "name": "stdout"
        }
      ]
    },
    {
      "cell_type": "markdown",
      "metadata": {
        "id": "Rl9bcRp7wFxr"
      },
      "source": [
        "### 性能の評価"
      ]
    },
    {
      "cell_type": "markdown",
      "metadata": {
        "id": "EVkvgaYtLGUS"
      },
      "source": [
        "学習したモデルをテスト用のデータセットを使って評価してみましょう。\n",
        "AllenNLPには評価を行うための`evaluate`コマンドが用意されています。\n",
        "このコマンドでは、第1引数にモデルのアーカイブファイル、第2引数にテスト用データセットのパスを指定します。"
      ]
    },
    {
      "cell_type": "code",
      "metadata": {
        "id": "9yaFsKiLLRdJ",
        "outputId": "5072b199-cece-4654-eda8-891fe5eafb26",
        "colab": {
          "base_uri": "https://localhost:8080/",
          "height": 289
        }
      },
      "source": [
        "!allennlp evaluate --include-package mecab_tokenizer exp_livedoor_news/model.tar.gz data/livedoor_news/livedoor_news_test.jsonl"
      ],
      "execution_count": null,
      "outputs": [
        {
          "output_type": "stream",
          "text": [
            "2020-10-20 05:25:09.929902: I tensorflow/stream_executor/platform/default/dso_loader.cc:48] Successfully opened dynamic library libcudart.so.10.1\n",
            "2020-10-20 05:25:11,448 - INFO - transformers.file_utils - TensorFlow version 2.3.0 available.\n",
            "2020-10-20 05:25:12,442 - INFO - allennlp.models.archival - loading archive file exp_livedoor_news/model.tar.gz\n",
            "2020-10-20 05:25:12,443 - INFO - allennlp.models.archival - extracting archive file exp_livedoor_news/model.tar.gz to temp dir /tmp/tmpn5nta8p1\n",
            "2020-10-20 05:25:12,705 - INFO - allennlp.data.vocabulary - Loading token dictionary from /tmp/tmpn5nta8p1/vocabulary.\n",
            "2020-10-20 05:25:12,857 - INFO - allennlp.common.checks - Pytorch version: 1.6.0+cu101\n",
            "2020-10-20 05:25:12,860 - INFO - allennlp.commands.evaluate - Reading evaluation data from data/livedoor_news/livedoor_news_test.jsonl\n",
            "reading instances: 737it [00:02, 301.31it/s]\n",
            "2020-10-20 05:25:15,308 - INFO - allennlp.training.util - Iterating over dataset\n",
            "accuracy: 0.96, loss: 0.13 ||: : 24it [00:00, 25.15it/s]\n",
            "2020-10-20 05:25:16,263 - INFO - allennlp.commands.evaluate - Finished evaluating.\n",
            "2020-10-20 05:25:16,263 - INFO - allennlp.common.util - Metrics: {\n",
            "  \"accuracy\": 0.9552238805970149,\n",
            "  \"loss\": 0.1309540551800031\n",
            "}\n",
            "2020-10-20 05:25:16,350 - INFO - allennlp.models.archival - removing temporary unarchived model dir at /tmp/tmpn5nta8p1\n"
          ],
          "name": "stdout"
        }
      ]
    },
    {
      "cell_type": "markdown",
      "metadata": {
        "id": "aLQfKjDoLaN3"
      },
      "source": [
        "テスト用データセットでの正解率は約95.5%になりました。"
      ]
    },
    {
      "cell_type": "markdown",
      "metadata": {
        "id": "ihXi2W0JwJIn"
      },
      "source": [
        "### 学習したモデルを使う"
      ]
    },
    {
      "cell_type": "markdown",
      "metadata": {
        "id": "qpgf_Qf0Li51"
      },
      "source": [
        "学習したモデルを使ってテキストを分類してみましょう。まず分類する文書を`sentence`属性に含んだJSONファイル`text_classification_input.json`を用意します。"
      ]
    },
    {
      "cell_type": "code",
      "metadata": {
        "id": "v5DYSnkAwIE4"
      },
      "source": [
        "!echo '{\"sentence\":\"新しい冷蔵庫がほしい\"}' > text_classification_input.json"
      ],
      "execution_count": null,
      "outputs": []
    },
    {
      "cell_type": "markdown",
      "metadata": {
        "id": "o5GIOdlrL1uX"
      },
      "source": [
        "AllenNLPでは学習したモデルを`predict`コマンドで実行することができます。\n",
        "このコマンドでは、第1引数にモデルのアーカイブファイル、第2引数に入力ファイルのパスを指定します。"
      ]
    },
    {
      "cell_type": "code",
      "metadata": {
        "id": "nR9AekN-Lydo",
        "outputId": "0c450c86-612a-4aad-e004-e90269b25b8e",
        "colab": {
          "base_uri": "https://localhost:8080/",
          "height": 1000
        }
      },
      "source": [
        "!allennlp predict --include-package mecab_tokenizer exp_livedoor_news/model.tar.gz text_classification_input.json"
      ],
      "execution_count": null,
      "outputs": [
        {
          "output_type": "stream",
          "text": [
            "2020-10-20 05:25:18.512825: I tensorflow/stream_executor/platform/default/dso_loader.cc:48] Successfully opened dynamic library libcudart.so.10.1\n",
            "2020-10-20 05:25:19,780 - INFO - transformers.file_utils - TensorFlow version 2.3.0 available.\n",
            "2020-10-20 05:25:20,560 - INFO - allennlp.models.archival - loading archive file exp_livedoor_news/model.tar.gz\n",
            "2020-10-20 05:25:20,560 - INFO - allennlp.models.archival - extracting archive file exp_livedoor_news/model.tar.gz to temp dir /tmp/tmpz9541xyg\n",
            "2020-10-20 05:25:20,816 - INFO - allennlp.common.params - vocabulary.type = from_instances\n",
            "2020-10-20 05:25:20,816 - INFO - allennlp.data.vocabulary - Loading token dictionary from /tmp/tmpz9541xyg/vocabulary.\n",
            "2020-10-20 05:25:20,885 - INFO - allennlp.common.params - model.type = basic_classifier\n",
            "2020-10-20 05:25:20,886 - INFO - allennlp.common.params - model.regularizer = None\n",
            "2020-10-20 05:25:20,886 - INFO - allennlp.common.params - model.text_field_embedder.type = basic\n",
            "2020-10-20 05:25:20,886 - INFO - allennlp.common.params - model.text_field_embedder.token_embedders.tokens.type = embedding\n",
            "2020-10-20 05:25:20,886 - INFO - allennlp.common.params - model.text_field_embedder.token_embedders.tokens.embedding_dim = 100\n",
            "2020-10-20 05:25:20,886 - INFO - allennlp.common.params - model.text_field_embedder.token_embedders.tokens.num_embeddings = None\n",
            "2020-10-20 05:25:20,886 - INFO - allennlp.common.params - model.text_field_embedder.token_embedders.tokens.projection_dim = None\n",
            "2020-10-20 05:25:20,887 - INFO - allennlp.common.params - model.text_field_embedder.token_embedders.tokens.weight = None\n",
            "2020-10-20 05:25:20,887 - INFO - allennlp.common.params - model.text_field_embedder.token_embedders.tokens.padding_index = None\n",
            "2020-10-20 05:25:20,887 - INFO - allennlp.common.params - model.text_field_embedder.token_embedders.tokens.trainable = True\n",
            "2020-10-20 05:25:20,887 - INFO - allennlp.common.params - model.text_field_embedder.token_embedders.tokens.max_norm = None\n",
            "2020-10-20 05:25:20,887 - INFO - allennlp.common.params - model.text_field_embedder.token_embedders.tokens.norm_type = 2.0\n",
            "2020-10-20 05:25:20,887 - INFO - allennlp.common.params - model.text_field_embedder.token_embedders.tokens.scale_grad_by_freq = False\n",
            "2020-10-20 05:25:20,887 - INFO - allennlp.common.params - model.text_field_embedder.token_embedders.tokens.sparse = False\n",
            "2020-10-20 05:25:20,887 - INFO - allennlp.common.params - model.text_field_embedder.token_embedders.tokens.vocab_namespace = tokens\n",
            "2020-10-20 05:25:20,887 - INFO - allennlp.common.params - model.text_field_embedder.token_embedders.tokens.pretrained_file = None\n",
            "2020-10-20 05:25:20,939 - INFO - allennlp.common.params - model.seq2vec_encoder.type = bag_of_embeddings\n",
            "2020-10-20 05:25:20,940 - INFO - allennlp.common.params - model.seq2vec_encoder.embedding_dim = 100\n",
            "2020-10-20 05:25:20,940 - INFO - allennlp.common.params - model.seq2vec_encoder.averaged = False\n",
            "2020-10-20 05:25:20,940 - INFO - allennlp.common.params - model.seq2seq_encoder = None\n",
            "2020-10-20 05:25:20,940 - INFO - allennlp.common.params - model.feedforward = None\n",
            "2020-10-20 05:25:20,940 - INFO - allennlp.common.params - model.dropout = None\n",
            "2020-10-20 05:25:20,940 - INFO - allennlp.common.params - model.num_labels = None\n",
            "2020-10-20 05:25:20,940 - INFO - allennlp.common.params - model.label_namespace = labels\n",
            "2020-10-20 05:25:20,940 - INFO - allennlp.common.params - model.namespace = tokens\n",
            "2020-10-20 05:25:20,940 - INFO - allennlp.common.params - model.initializer = <allennlp.nn.initializers.InitializerApplicator object at 0x7f1a658b4908>\n",
            "2020-10-20 05:25:20,941 - INFO - allennlp.nn.initializers - Initializing parameters\n",
            "2020-10-20 05:25:20,941 - INFO - allennlp.nn.initializers - Done initializing parameters; the following parameters are using their default initialization from their code\n",
            "2020-10-20 05:25:20,941 - INFO - allennlp.nn.initializers -    _classification_layer.bias\n",
            "2020-10-20 05:25:20,941 - INFO - allennlp.nn.initializers -    _classification_layer.weight\n",
            "2020-10-20 05:25:20,941 - INFO - allennlp.nn.initializers -    _text_field_embedder.token_embedder_tokens.weight\n",
            "2020-10-20 05:25:20,964 - INFO - allennlp.common.params - dataset_reader.type = text_classification_json\n",
            "2020-10-20 05:25:20,964 - INFO - allennlp.common.params - dataset_reader.lazy = False\n",
            "2020-10-20 05:25:20,964 - INFO - allennlp.common.params - dataset_reader.cache_directory = None\n",
            "2020-10-20 05:25:20,964 - INFO - allennlp.common.params - dataset_reader.max_instances = None\n",
            "2020-10-20 05:25:20,964 - INFO - allennlp.common.params - dataset_reader.manual_distributed_sharding = False\n",
            "2020-10-20 05:25:20,964 - INFO - allennlp.common.params - dataset_reader.manual_multi_process_sharding = False\n",
            "2020-10-20 05:25:20,964 - INFO - allennlp.common.params - dataset_reader.token_indexers.tokens.type = single_id\n",
            "2020-10-20 05:25:20,965 - INFO - allennlp.common.params - dataset_reader.token_indexers.tokens.namespace = tokens\n",
            "2020-10-20 05:25:20,965 - INFO - allennlp.common.params - dataset_reader.token_indexers.tokens.lowercase_tokens = False\n",
            "2020-10-20 05:25:20,965 - INFO - allennlp.common.params - dataset_reader.token_indexers.tokens.start_tokens = None\n",
            "2020-10-20 05:25:20,965 - INFO - allennlp.common.params - dataset_reader.token_indexers.tokens.end_tokens = None\n",
            "2020-10-20 05:25:20,965 - INFO - allennlp.common.params - dataset_reader.token_indexers.tokens.feature_name = text\n",
            "2020-10-20 05:25:20,965 - INFO - allennlp.common.params - dataset_reader.token_indexers.tokens.default_value = THIS IS A REALLY UNLIKELY VALUE THAT HAS TO BE A STRING\n",
            "2020-10-20 05:25:20,965 - INFO - allennlp.common.params - dataset_reader.token_indexers.tokens.token_min_padding_length = 0\n",
            "2020-10-20 05:25:20,965 - INFO - allennlp.common.params - dataset_reader.tokenizer.type = mecab\n",
            "2020-10-20 05:25:20,966 - INFO - allennlp.common.params - dataset_reader.segment_sentences = False\n",
            "2020-10-20 05:25:20,966 - INFO - allennlp.common.params - dataset_reader.max_sequence_length = None\n",
            "2020-10-20 05:25:20,966 - INFO - allennlp.common.params - dataset_reader.skip_label_indexing = False\n",
            "input 0:  {\"sentence\": \"\\u65b0\\u3057\\u3044\\u51b7\\u8535\\u5eab\\u304c\\u307b\\u3057\\u3044\"}\n",
            "prediction:  {\"logits\": [-0.10983803868293762, -0.1061975359916687, -0.15040323138237, 0.007181158289313316, 0.09041442722082138, 0.18144872784614563, 0.005449764430522919, 0.03223137557506561, -0.0071383314207196236], \"probs\": [0.09969189763069153, 0.10005548596382141, 0.095728799700737, 0.11206775158643723, 0.12179470807313919, 0.13340254127979279, 0.11187388747930527, 0.1149105355143547, 0.11047443002462387], \"token_ids\": [390, 4751, 7, 896], \"label\": \"kaden-channel\", \"tokens\": [\"\\u65b0\\u3057\\u3044\", \"\\u51b7\\u8535\\u5eab\", \"\\u304c\", \"\\u307b\\u3057\\u3044\"]}\n",
            "\n",
            "2020-10-20 05:25:20,976 - INFO - allennlp.models.archival - removing temporary unarchived model dir at /tmp/tmpz9541xyg\n"
          ],
          "name": "stdout"
        }
      ]
    },
    {
      "cell_type": "markdown",
      "metadata": {
        "id": "nqJdVqZuMoqS"
      },
      "source": [
        "`prediction:`からはじまる行に各入力に対して予測された確率（`probs`）や予測結果（`label`）が表示されています。\n",
        "下記に整形した結果を示します。\n",
        "入力したテキストは、最も適したラベルと考えられる`kaden-channel`に正しく分類されていることが分かります。\n",
        "\n",
        "```json\n",
        "{\n",
        "  \"logits\": [-0.10983803868293762, -0.1061975359916687, -0.15040323138237, 0.007181158289313316, 0.09041442722082138, 0.18144872784614563, 0.005449764430522919, 0.03223137557506561, -0.0071383314207196236],\n",
        "  \"probs\": [0.09969189763069153, 0.10005548596382141, 0.095728799700737, 0.11206775158643723, 0.12179470807313919, 0.13340254127979279, 0.11187388747930527, 0.1149105355143547, 0.11047443002462387],\n",
        "  \"token_ids\": [390, 4751, 7, 896],\n",
        "  \"label\": \"kaden-channel\",\n",
        "  \"tokens\": [\"\\u65b0\\u3057\\u3044\", \"\\u51b7\\u8535\\u5eab\", \"\\u304c\", \"\\u307b\\u3057\\u3044\"]\n",
        "}\n",
        "```"
      ]
    },
    {
      "cell_type": "markdown",
      "metadata": {
        "id": "CO3wbCRPNXSk"
      },
      "source": [
        "次に、`allennlp predict`と同様の処理を行うPythonコードを実装します。\n",
        "\n",
        "Pythonから訓練したモデルのアーカイブファイルを読み込むには`load_archive`関数を使います。"
      ]
    },
    {
      "cell_type": "code",
      "metadata": {
        "id": "teW0gs1_McJN"
      },
      "source": [
        "from allennlp.models.archival import load_archive\n",
        "archive = load_archive(\"exp_livedoor_news/model.tar.gz\")"
      ],
      "execution_count": null,
      "outputs": []
    },
    {
      "cell_type": "markdown",
      "metadata": {
        "id": "Nh4jIFouPQ-v"
      },
      "source": [
        "AllenNLPで読み込んだモデルを使う場合は、**プレディクタ**を用います。\n",
        "\n",
        "まず、`from_archive`メソッドを用いてアーカイブファイルからプレディクタのインスタンスを作成します。"
      ]
    },
    {
      "cell_type": "code",
      "metadata": {
        "id": "f8962iO2PMZl"
      },
      "source": [
        "from allennlp.predictors.predictor import Predictor\n",
        "predictor = Predictor.from_archive(archive)"
      ],
      "execution_count": null,
      "outputs": []
    },
    {
      "cell_type": "markdown",
      "metadata": {
        "id": "kUxqd0fIPV2_"
      },
      "source": [
        "プレディクタを使ってテキストを分類してみましょう。\n",
        "`predict_json`メソッドに上述したJSONデータと同様の`dict`を渡します。"
      ]
    },
    {
      "cell_type": "code",
      "metadata": {
        "id": "jGoFXmERPTt_",
        "outputId": "6d968ad4-0f7e-4a36-a7ab-eccc36ba4395",
        "colab": {
          "base_uri": "https://localhost:8080/",
          "height": 374
        }
      },
      "source": [
        "predictor.predict_json({\"sentence\": \"新しい冷蔵庫がほしい\"})"
      ],
      "execution_count": null,
      "outputs": [
        {
          "output_type": "execute_result",
          "data": {
            "text/plain": [
              "{'label': 'kaden-channel',\n",
              " 'logits': [-0.10983803868293762,\n",
              "  -0.1061975359916687,\n",
              "  -0.15040323138237,\n",
              "  0.007181158289313316,\n",
              "  0.09041442722082138,\n",
              "  0.18144872784614563,\n",
              "  0.005449764430522919,\n",
              "  0.03223137557506561,\n",
              "  -0.0071383314207196236],\n",
              " 'probs': [0.09969189763069153,\n",
              "  0.10005548596382141,\n",
              "  0.095728799700737,\n",
              "  0.11206775158643723,\n",
              "  0.12179470807313919,\n",
              "  0.13340254127979279,\n",
              "  0.11187388747930527,\n",
              "  0.1149105355143547,\n",
              "  0.11047443002462387],\n",
              " 'token_ids': [390, 4751, 7, 896],\n",
              " 'tokens': ['新しい', '冷蔵庫', 'が', 'ほしい']}"
            ]
          },
          "metadata": {
            "tags": []
          },
          "execution_count": 51
        }
      ]
    },
    {
      "cell_type": "markdown",
      "metadata": {
        "id": "nJfKpNgZPd0p"
      },
      "source": [
        "前述した`predict`コマンドと同じ予測結果が得られました。"
      ]
    },
    {
      "cell_type": "markdown",
      "metadata": {
        "id": "e35aI7Ikl-BY"
      },
      "source": [
        "**他のノートブックへのリンク：**\n",
        "\n",
        "* [AllenNLPによる自然言語処理 (2): 畳み込みニューラルネットワークによる感情分析](https://colab.research.google.com/drive/1v0YHDTFbQYixdxWf-pp1pZRZ4nkcsy2b?usp=sharing)\n",
        "* [AllenNLPによる自然言語処理 (3): BERTによる固有表現認識](https://colab.research.google.com/drive/13ga1yYYZkosGZy9ZinAB76blb-8k6yby?usp=sharing)"
      ]
    }
  ]
}